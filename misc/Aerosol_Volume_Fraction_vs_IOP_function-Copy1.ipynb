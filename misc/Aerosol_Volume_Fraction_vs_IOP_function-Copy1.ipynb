{
 "cells": [
  {
   "cell_type": "code",
   "execution_count": 1,
   "id": "b5e53b04",
   "metadata": {},
   "outputs": [],
   "source": [
    "# open the data file\n",
    "file = open(\"iops_human340nm.txt\")\n",
    "# read the file as a list\n",
    "iops_human340nm = file.readlines()\n",
    "# close the file\n",
    "file.close()\n"
   ]
  },
  {
   "cell_type": "code",
   "execution_count": 2,
   "id": "26299521",
   "metadata": {},
   "outputs": [],
   "source": [
    "#process the input data: \"IOP file\"\n",
    "import re\n",
    "\n",
    "optical_depth_raw_340nm = []\n",
    "\n",
    "for row in iops_human340nm:\n",
    "    if row.find(\"Cumulative\")>=0:\n",
    "        optical_depth_raw_340nm.append(row)\n",
    "\n",
    "#Filtering just the numbers from the strings\n",
    "\n",
    "optical_depth_340nm = []\n",
    "\n",
    "for row in optical_depth_raw_340nm:\n",
    "    number = [i for i in re.findall('\\d+\\.\\d+',row)]\n",
    "#    number = [int(i) for i in re.findall(r'\\d+',row)]\n",
    "    optical_depth_340nm.append(number)\n",
    "\n",
    "\n",
    "#filter every third element from the list:\n",
    "optical_depth2_340nm = []\n",
    "\n",
    "for i in range(len(optical_depth_340nm)):\n",
    "    if i%3 == 2:\n",
    "        optical_depth2_340nm.append(optical_depth_340nm[i])\n",
    "        \n",
    "optical_depth3_340nm = []\n",
    "for item in optical_depth2_340nm:\n",
    "    optical_depth3_340nm.append(float(item[0]))\n",
    "\n",
    "#print(optical_depth)\n",
    "#print(optical_depth2)\n",
    "#print(optical_depth3)\n"
   ]
  },
  {
   "cell_type": "code",
   "execution_count": 3,
   "id": "eff679d0",
   "metadata": {},
   "outputs": [],
   "source": [
    "# open the data file\n",
    "file = open(\"iops_human380nm.txt\")\n",
    "# read the file as a list\n",
    "iops_human380nm = file.readlines()\n",
    "# close the file\n",
    "file.close()"
   ]
  },
  {
   "cell_type": "code",
   "execution_count": 4,
   "id": "c937546f",
   "metadata": {},
   "outputs": [],
   "source": [
    "#process the input data: \"IOP file\"\n",
    "import re\n",
    "\n",
    "optical_depth_raw_380nm = []\n",
    "\n",
    "for row in iops_human380nm:\n",
    "    if row.find(\"Cumulative\")>=0:\n",
    "        optical_depth_raw_380nm.append(row)\n",
    "\n",
    "#Filtering just the numbers from the strings\n",
    "\n",
    "optical_depth_380nm = []\n",
    "\n",
    "for row in optical_depth_raw_380nm:\n",
    "    number = [i for i in re.findall('\\d+\\.\\d+',row)]\n",
    "#    number = [int(i) for i in re.findall(r'\\d+',row)]\n",
    "    optical_depth_380nm.append(number)\n",
    "\n",
    "\n",
    "#filter every third element from the list:\n",
    "optical_depth2_380nm = []\n",
    "\n",
    "for i in range(len(optical_depth_380nm)):\n",
    "    if i%3 == 2:\n",
    "        optical_depth2_380nm.append(optical_depth_380nm[i])\n",
    "        \n",
    "optical_depth3_380nm = []\n",
    "for item in optical_depth2_380nm:\n",
    "    optical_depth3_380nm.append(float(item[0]))\n",
    "\n",
    "#print(optical_depth)\n",
    "#print(optical_depth2)\n",
    "#print(optical_depth3)\n"
   ]
  },
  {
   "cell_type": "code",
   "execution_count": 5,
   "id": "6d95a09a",
   "metadata": {},
   "outputs": [
    {
     "name": "stdout",
     "output_type": "stream",
     "text": [
      "['2  0.000000000100000\\n', '2  0.000000005149495\\n', '2  0.000000010198990\\n', '2  0.000000015248485\\n', '2  0.000000020297980\\n', '2  0.000000025347475\\n', '2  0.000000030396970\\n', '2  0.000000035446465\\n', '2  0.000000040495960\\n', '2  0.000000045545455\\n', '2  0.000000050594949\\n', '2  0.000000055644444\\n', '2  0.000000060693939\\n', '2  0.000000065743434\\n', '2  0.000000070792929\\n', '2  0.000000075842424\\n', '2  0.000000080891919\\n', '2  0.000000085941414\\n', '2  0.000000090990909\\n', '2  0.000000096040404\\n', '2  0.000000101089899\\n', '2  0.000000106139394\\n', '2  0.000000111188889\\n', '2  0.000000116238384\\n', '2  0.000000121287879\\n', '2  0.000000126337374\\n', '2  0.000000131386869\\n', '2  0.000000136436364\\n', '2  0.000000141485859\\n', '2  0.000000146535354\\n', '2  0.000000151584848\\n', '2  0.000000156634343\\n', '2  0.000000161683838\\n', '2  0.000000166733333\\n', '2  0.000000171782828\\n', '2  0.000000176832323\\n', '2  0.000000181881818\\n', '2  0.000000186931313\\n', '2  0.000000191980808\\n', '2  0.000000197030303\\n', '2  0.000000202079798\\n', '2  0.000000207129293\\n', '2  0.000000212178788\\n', '2  0.000000217228283\\n', '2  0.000000222277778\\n', '2  0.000000227327273\\n', '2  0.000000232376768\\n', '2  0.000000237426263\\n', '2  0.000000242475758\\n', '2  0.000000247525253\\n', '2  0.000000252574747\\n', '2  0.000000257624242\\n', '2  0.000000262673737\\n', '2  0.000000267723232\\n', '2  0.000000272772727\\n', '2  0.000000277822222\\n', '2  0.000000282871717\\n', '2  0.000000287921212\\n', '2  0.000000292970707\\n', '2  0.000000298020202\\n', '2  0.000000303069697\\n', '2  0.000000308119192\\n', '2  0.000000313168687\\n', '2  0.000000318218182\\n', '2  0.000000323267677\\n', '2  0.000000328317172\\n', '2  0.000000333366667\\n', '2  0.000000338416162\\n', '2  0.000000343465657\\n', '2  0.000000348515152\\n', '2  0.000000353564646\\n', '2  0.000000358614141\\n', '2  0.000000363663636\\n', '2  0.000000368713131\\n', '2  0.000000373762626\\n', '2  0.000000378812121\\n', '2  0.000000383861616\\n', '2  0.000000388911111\\n', '2  0.000000393960606\\n', '2  0.000000399010101\\n', '2  0.000000404059596\\n', '2  0.000000409109091\\n', '2  0.000000414158586\\n', '2  0.000000419208081\\n', '2  0.000000424257576\\n', '2  0.000000429307071\\n', '2  0.000000434356566\\n', '2  0.000000439406061\\n', '2  0.000000444455556\\n', '2  0.000000449505051\\n', '2  0.000000454554545\\n', '2  0.000000459604040\\n', '2  0.000000464653535\\n', '2  0.000000469703030\\n', '2  0.000000474752525\\n', '2  0.000000479802020\\n', '2  0.000000484851515\\n', '2  0.000000489901010\\n', '2  0.000000494950505\\n', '2  0.000000500000000']\n",
      "[1e-10, 5.149495e-09, 1.019899e-08, 1.5248485e-08, 2.029798e-08, 2.5347475e-08, 3.039697e-08, 3.5446465e-08, 4.049596e-08, 4.5545455e-08, 5.0594949e-08, 5.5644444e-08, 6.0693939e-08, 6.5743434e-08, 7.0792929e-08, 7.5842424e-08, 8.0891919e-08, 8.5941414e-08, 9.0990909e-08, 9.6040404e-08, 1.01089899e-07, 1.06139394e-07, 1.11188889e-07, 1.16238384e-07, 1.21287879e-07, 1.26337374e-07, 1.31386869e-07, 1.36436364e-07, 1.41485859e-07, 1.46535354e-07, 1.51584848e-07, 1.56634343e-07, 1.61683838e-07, 1.66733333e-07, 1.71782828e-07, 1.76832323e-07, 1.81881818e-07, 1.86931313e-07, 1.91980808e-07, 1.97030303e-07, 2.02079798e-07, 2.07129293e-07, 2.12178788e-07, 2.17228283e-07, 2.22277778e-07, 2.27327273e-07, 2.32376768e-07, 2.37426263e-07, 2.42475758e-07, 2.47525253e-07, 2.52574747e-07, 2.57624242e-07, 2.62673737e-07, 2.67723232e-07, 2.72772727e-07, 2.77822222e-07, 2.82871717e-07, 2.87921212e-07, 2.92970707e-07, 2.98020202e-07, 3.03069697e-07, 3.08119192e-07, 3.13168687e-07, 3.18218182e-07, 3.23267677e-07, 3.28317172e-07, 3.33366667e-07, 3.38416162e-07, 3.43465657e-07, 3.48515152e-07, 3.53564646e-07, 3.58614141e-07, 3.63663636e-07, 3.68713131e-07, 3.73762626e-07, 3.78812121e-07, 3.83861616e-07, 3.88911111e-07, 3.93960606e-07, 3.99010101e-07, 4.04059596e-07, 4.09109091e-07, 4.14158586e-07, 4.19208081e-07, 4.24257576e-07, 4.29307071e-07, 4.34356566e-07, 4.39406061e-07, 4.44455556e-07, 4.49505051e-07, 4.54554545e-07, 4.5960404e-07, 4.64653535e-07, 4.6970303e-07, 4.74752525e-07, 4.7980202e-07, 4.84851515e-07, 4.8990101e-07, 4.94950505e-07, 5e-07]\n"
     ]
    }
   ],
   "source": [
    "#process data: \"cloud_profile\" file\n",
    "file = open(\"cloud_profile.txt\")\n",
    "# read the file as a list\n",
    "data2 = file.readlines()\n",
    "# close the file\n",
    "file.close()\n",
    "\n",
    "volume_fraction = []\n",
    "volume_fraction2 = []\n",
    "\n",
    "for item in data2:\n",
    "    chunks = item.split(' ')\n",
    "    volume_fraction.append(chunks)\n",
    "    \n",
    "for item in volume_fraction:\n",
    "    volume_fraction2.append(float(item[2]))\n",
    "    \n",
    "print(data2)\n",
    "print(volume_fraction2)"
   ]
  },
  {
   "cell_type": "code",
   "execution_count": 6,
   "id": "12fc97ae",
   "metadata": {},
   "outputs": [
    {
     "data": {
      "image/png": "[encoded data removed]",
      "text/plain": [
       "<Figure size 432x288 with 1 Axes>"
      ]
     },
     "metadata": {
      "needs_background": "light"
     },
     "output_type": "display_data"
    },
    {
     "name": "stdout",
     "output_type": "stream",
     "text": [
      "300000000.0000002\n",
      "0.0\n",
      "300000000.0000001\n",
      "-1.4210854715202004e-14\n"
     ]
    }
   ],
   "source": [
    "#plot volume fration VS iop function\n",
    "import matplotlib.pyplot as plt\n",
    "import math\n",
    "from scipy import stats\n",
    "\n",
    "#linear regression\n",
    "slope_340nm, intercept_340nm, r_340nm, p_340nm, std_err_340nm = stats.linregress(volume_fraction2, optical_depth3_340nm)\n",
    "slope_380nm, intercept_380nm, r_380nm, p_380nm, std_err_380nm = stats.linregress(volume_fraction2, optical_depth3_380nm)\n",
    "\n",
    "def myfunc_340nm(x):\n",
    "  return slope_340nm * x + intercept_340nm\n",
    "\n",
    "mymodel = list(map(myfunc_340nm, volume_fraction2))\n",
    "\n",
    "plt.plot(volume_fraction2,optical_depth3_340nm)\n",
    "plt.plot(volume_fraction2,optical_depth3_380nm)\n",
    "#plt.plot(volume_fraction2, mymodel)\n",
    "#plt.ylim(0,0.0000000110000000)\n",
    "#plt.xlim(0,3.2)\n",
    "plt.xlabel('Volume fraction')\n",
    "plt.ylabel('Optical depth')\n",
    "plt.show()\n",
    "#import mathplt.show()\n",
    "\n",
    "print(slope_340nm)\n",
    "print(intercept_340nm)\n",
    "print(slope_380nm)\n",
    "print(intercept_380nm)"
   ]
  }
 ],
 "metadata": {
  "kernelspec": {
   "display_name": "Python 3 (ipykernel)",
   "language": "python",
   "name": "python3"
  },
  "language_info": {
   "codemirror_mode": {
    "name": "ipython",
    "version": 3
   },
   "file_extension": ".py",
   "mimetype": "text/x-python",
   "name": "python",
   "nbconvert_exporter": "python",
   "pygments_lexer": "ipython3",
   "version": "3.10.5"
  }
 },
 "nbformat": 4,
 "nbformat_minor": 5
}
