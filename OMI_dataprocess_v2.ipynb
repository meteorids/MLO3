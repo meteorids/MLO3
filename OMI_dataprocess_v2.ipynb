{
 "cells": [
  {
   "cell_type": "code",
   "execution_count": 1,
   "id": "ce2afb16",
   "metadata": {},
   "outputs": [],
   "source": [
    "# This code is to process .he5 format datafiles from NASA - OMI\n",
    "# 2022 ___MILOS___ 2022\n",
    "# milostipanov@gmail.com"
   ]
  },
  {
   "cell_type": "code",
   "execution_count": 2,
   "id": "47db2424",
   "metadata": {},
   "outputs": [],
   "source": [
    "# Loading the neccessary libraries\n",
    "\n",
    "import os\n",
    "import h5py\n",
    "import pandas as pd\n",
    "import datetime"
   ]
  },
  {
   "cell_type": "code",
   "execution_count": 3,
   "id": "a14d3e10",
   "metadata": {},
   "outputs": [
    {
     "name": "stdout",
     "output_type": "stream",
     "text": [
      "\n"
     ]
    }
   ],
   "source": [
    "# NOTE: seems like a h5py file can be opened only by 1 program/library whatever at the time. Hence the 2 for loops\n",
    "\n",
    "# Loading all file names within a directory to datafiles list.\n",
    "datafiles=[]\n",
    "year=[]\n",
    "month=[]\n",
    "day=[]\n",
    "doy=[]\n",
    "\n",
    "# Give the path to the folder where all the he5 datafiles located. Don't forget the / at the end of the path (for he second for loop).\n",
    "\n",
    "datapath = '../Data/OMI/2019/'\n",
    "\n",
    "for filename in os.listdir(datapath):\n",
    "    datafiles.append(filename)\n",
    "#    year.append(filename[21:25])\n",
    "#    month.append(filename[26:28])\n",
    "#    day.append(filename[28:30])\n",
    "    year.append(filename[21:25])\n",
    "    month.append(filename[26:28])\n",
    "    day.append(filename[28:30])\n",
    "#    print(filename[20:24],filename[25:27],filename[27:29],'\\n')\n",
    "#    print(filename[21:25],filename[26:28],filename[28:30],'\\n')\n",
    "    doy.append(datetime.datetime.strptime(filename[21:25]+filename[26:28]+filename[28:30], '%Y%m%d').timetuple().tm_yday)\n",
    "    \n",
    "    \n",
    "# Iterating through the list of filenames and getting rid of missing data (negative values) and calculationg means    \n",
    "averages=[]\n",
    "O3 = []\n",
    "    \n",
    "for name in datafiles:\n",
    "    f = h5py.File(datapath+str(name))\n",
    "    data = f['HDFEOS/GRIDS/ColumnAmountO3/Data Fields/ColumnAmountO3']\n",
    "#    data = f['HDFEOS/GRIDS/OMI Column Amount O3/Data Fields/ColumnAmountO3']\n",
    "#    data = f['HDFEOS/ADDITIONAL/GRIDS/Omi_column_Amount_O3']\n",
    "    df = pd.DataFrame(data)\n",
    "    if df[423][522]>0:\n",
    "        O3.append(float(df[423][522]))\n",
    "    else:\n",
    "        O3.append(float('nan'))\n",
    " #   O3.append(df[421][522])   \n",
    " #   positive_values = df[df>0]\n",
    " #   mean_rows = positive_values.mean(numeric_only=True)\n",
    " #   mean = mean_rows.mean()\n",
    " #   averages.append(mean)\n",
    "  \n",
    "\n",
    "\n",
    "print()\n",
    "df2 = pd.DataFrame({\n",
    "    'YEAR': year,\n",
    "    'MONTH': month,\n",
    "    'DAY': day,\n",
    "    'DOY': doy,\n",
    "    'OMI_O3': O3\n",
    "})\n",
    "\n",
    "\n",
    "df2.to_csv(\"./OMI-dataprocess-output/omi_2019.csv\")\n",
    "df.to_csv(\"./OMI-dataprocess-output/omi_2019_raw.csv\")"
   ]
  },
  {
   "cell_type": "code",
   "execution_count": null,
   "id": "22c16da8",
   "metadata": {},
   "outputs": [],
   "source": []
  },
  {
   "cell_type": "code",
   "execution_count": null,
   "id": "fb039cd2",
   "metadata": {},
   "outputs": [],
   "source": []
  }
 ],
 "metadata": {
  "kernelspec": {
   "display_name": "Python 3 (ipykernel)",
   "language": "python",
   "name": "python3"
  },
  "language_info": {
   "codemirror_mode": {
    "name": "ipython",
    "version": 3
   },
   "file_extension": ".py",
   "mimetype": "text/x-python",
   "name": "python",
   "nbconvert_exporter": "python",
   "pygments_lexer": "ipython3",
   "version": "3.10.5"
  }
 },
 "nbformat": 4,
 "nbformat_minor": 5
}
