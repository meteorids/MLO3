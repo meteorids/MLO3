{
 "cells": [
  {
   "cell_type": "code",
   "execution_count": 1,
   "id": "a65d02b0",
   "metadata": {},
   "outputs": [],
   "source": [
    "# milostipanov@gmail.com \n",
    "# https://github.com/meteorids\n",
    "# 2022\n",
    "\n",
    "#This Code is to process the output from the NeuralNetwork-Predict. Creating plots and statistics. Will combine the output file from the NN and the NILU-data-process for time stamps."
   ]
  },
  {
   "cell_type": "code",
   "execution_count": 2,
   "id": "96ef35a4",
   "metadata": {},
   "outputs": [
    {
     "name": "stdout",
     "output_type": "stream",
     "text": [
      "        DATE_NILU  TIMEUTC_NILU  DOY_NILU  SZA_NILU     O3_NILU  COD_NILU  \\\n",
      "0        20190101          1455         1    69.953  214.397288  1.549721   \n",
      "1        20190101          1456         1    69.858  215.219334  1.389223   \n",
      "2        20190101          1457         1    69.763  216.599442  1.182673   \n",
      "3        20190101          1458         1    69.669  217.364050  1.084335   \n",
      "4        20190101          1459         1    69.575  217.456526  1.108733   \n",
      "...           ...           ...       ...       ...         ...       ...   \n",
      "110395   20190730          2215       211    69.227  196.274941  0.014035   \n",
      "110396   20190730          2216       211    69.415  212.129888  0.023672   \n",
      "110397   20190730          2217       211    69.602  200.130448  0.016322   \n",
      "110398   20190730          2218       211    69.790  200.811479  0.016975   \n",
      "110399   20190730          2219       211    69.978  203.331851  0.018726   \n",
      "\n",
      "        SZA_COS_NILU  COD_NILU_CORR  \n",
      "0           0.342791       4.520894  \n",
      "1           0.344348       4.034357  \n",
      "2           0.345904       3.419078  \n",
      "3           0.347443       3.120900  \n",
      "4           0.348981       3.177058  \n",
      "...              ...            ...  \n",
      "110395      0.354666       0.039572  \n",
      "110396      0.351597       0.067326  \n",
      "110397      0.348539       0.046830  \n",
      "110398      0.345462       0.049137  \n",
      "110399      0.342381       0.054692  \n",
      "\n",
      "[110400 rows x 8 columns]\n",
      "     DOY_NILU     O3_NILU\n",
      "0           1  217.937943\n",
      "1           2  261.374988\n",
      "2           3  268.186048\n",
      "3           4  242.124363\n",
      "4           5  250.068656\n",
      "..        ...         ...\n",
      "204       207  337.301140\n",
      "205       208  332.829366\n",
      "206       209  313.637252\n",
      "207       210  317.269401\n",
      "208       211  311.763392\n",
      "\n",
      "[209 rows x 2 columns]\n",
      "     DOY_NILU  COD_NILU_CORR\n",
      "0           1       8.278722\n",
      "1           2       0.643541\n",
      "2           3       8.888709\n",
      "3           4       0.599472\n",
      "4           5      47.238353\n",
      "..        ...            ...\n",
      "204       207       0.378968\n",
      "205       208       1.034678\n",
      "206       209       0.369270\n",
      "207       210       0.988472\n",
      "208       211       3.708062\n",
      "\n",
      "[209 rows x 2 columns]\n"
     ]
    }
   ],
   "source": [
    "#This block reads the daily data from NN-output and NILU-data-process output.\n",
    "\n",
    "import pandas as pd\n",
    "import numpy as np\n",
    "import math\n",
    "# Seting up data:\n",
    "\n",
    "processed_data = pd.read_csv('../MachineLearning-NILU/nnoutput_2019.txt',  sep=r'\\s+', header=None)\n",
    "timestamp     = pd.read_csv('./NILU-OUT/processed_nilu_2019.txt',  sep=r'\\s+', header=None)\n",
    "\n",
    "#year = str(timestamp[1])\n",
    "date_nilu = timestamp[3]\n",
    "time_nilu = timestamp[5]\n",
    "doy_nilu  = timestamp[4]\n",
    "sza_nilu  = timestamp[0]\n",
    "scaled_ozone_nilu   = processed_data[0]\n",
    "vol_frac_nilu       = processed_data[1]*10**-7\n",
    "\n",
    "\n",
    "# Converting scaled ozone to Dobson Units\n",
    "# Scaled to standard US atmosphere, the equivalent depth of ozone is 3.45×10^−3 m, in Dobson units= 345 DU. 1 eqd = 10^5 DU\n",
    "ozone_DU_nilu = scaled_ozone_nilu*345\n",
    "# Converting cloud particle vol. frac. to COD. Based on simulations. see code: COD_vs_volfrac.ipynb\n",
    "cod_nilu = vol_frac_nilu*152596238.214\n",
    "\n",
    "\n",
    "df_nilu = pd.DataFrame({'DATE_NILU': date_nilu,\n",
    "                   'TIMEUTC_NILU': time_nilu,\n",
    "                    'DOY_NILU': doy_nilu,\n",
    "                   'SZA_NILU': sza_nilu,\n",
    "                   'O3_NILU': ozone_DU_nilu,\n",
    "                   'COD_NILU': cod_nilu})\n",
    "\n",
    "df_nilu.to_csv(\"./STATS-PLOTS-OUT/dataframe.csv\")\n",
    "mylambda1 = lambda x: math.cos(math.radians(x))\n",
    "df_nilu['SZA_COS_NILU'] = df_nilu['SZA_NILU'].apply(mylambda1)\n",
    "df_nilu['COD_NILU_CORR'] = df_nilu['COD_NILU']/df_nilu['SZA_COS_NILU']\n",
    "\n",
    "high_noons = df_nilu.loc[df_nilu.groupby('DOY_NILU').SZA_NILU.idxmin()].reset_index()\n",
    "\n",
    "# creating a lambda function, to filter out the outliners\n",
    "mylambda2 = lambda x: x if x > 200 else np.nan\n",
    "high_noons['O3_NILU'] = high_noons['O3_NILU'].apply(mylambda2)\n",
    "#print(high_noons)\n",
    "#daily means:\n",
    "ozone_daily_mean_nilu = df_nilu.groupby('DOY_NILU').O3_NILU.mean().reset_index()\n",
    "doy_nilu = df_nilu.groupby('DOY_NILU').mean().reset_index()\n",
    "cod_daily_mean_nilu = df_nilu.groupby('DOY_NILU').COD_NILU_CORR.mean().reset_index()\n",
    "\n",
    "print(df_nilu)\n",
    "print(ozone_daily_mean_nilu)\n",
    "print(cod_daily_mean_nilu)\n",
    "#print(ozone_daily_mean_nilu)\n"
   ]
  },
  {
   "cell_type": "code",
   "execution_count": 3,
   "id": "934c06ab",
   "metadata": {},
   "outputs": [
    {
     "name": "stdout",
     "output_type": "stream",
     "text": [
      "110400\n",
      "209\n",
      "0           1\n",
      "1           1\n",
      "2           1\n",
      "3           1\n",
      "4           1\n",
      "         ... \n",
      "110395    211\n",
      "110396    211\n",
      "110397    211\n",
      "110398    211\n",
      "110399    211\n",
      "Name: DOY_NILU, Length: 110400, dtype: int64\n",
      "0      217.937943\n",
      "1      261.374988\n",
      "2      268.186048\n",
      "3      242.124363\n",
      "4      250.068656\n",
      "          ...    \n",
      "204    337.301140\n",
      "205    332.829366\n",
      "206    313.637252\n",
      "207    317.269401\n",
      "208    311.763392\n",
      "Name: O3_NILU, Length: 209, dtype: float64\n"
     ]
    }
   ],
   "source": [
    "#Reads OMI data\n",
    "\n",
    "df_omi = pd.read_csv('./OMI-dataprocess-output/omi_2019.csv',  sep=r',', header=0)\n",
    "year_omi = df_omi['YEAR']\n",
    "month_omi = df_omi['MONTH']\n",
    "day_omi = df_omi['DAY']\n",
    "doy_omi = df_omi['DOY']\n",
    "ozone_daily_mean_omi = df_omi['OMI_O3']\n",
    "\n",
    "print(len(df_nilu['DOY_NILU']))\n",
    "print(len(ozone_daily_mean_nilu['O3_NILU']))\n",
    "\n",
    "\n",
    "print(df_nilu['DOY_NILU'])\n",
    "print(ozone_daily_mean_nilu['O3_NILU'])\n",
    "\n"
   ]
  },
  {
   "cell_type": "code",
   "execution_count": 4,
   "id": "0e6c6ce1",
   "metadata": {},
   "outputs": [
    {
     "data": {
      "image/png": "[encoded data removed]",
      "text/plain": [
       "<Figure size 432x288 with 1 Axes>"
      ]
     },
     "metadata": {
      "needs_background": "light"
     },
     "output_type": "display_data"
    }
   ],
   "source": [
    "#Plotting daily average ozone concentration (NILU,OMI)\n",
    "%matplotlib inline\n",
    "import matplotlib.pyplot as plt\n",
    "plt.subplots(tight_layout=True)\n",
    "plt.scatter(df_omi['DOY'], df_omi['OMI_O3'], marker='.', color='grey')\n",
    "plt.scatter(ozone_daily_mean_nilu['DOY_NILU'], ozone_daily_mean_nilu['O3_NILU'], marker='+', color='black')\n",
    "plt.xlabel('Day of the year')\n",
    "plt.ylabel('Total Ozone Column  [DU]')\n",
    "plt.legend(['OMI','NILU'])\n",
    "\n",
    "plt.savefig('OMI_L3_NILU_O3_2019.pdf',dpi = 300)\n",
    "plt.show()\n",
    "        "
   ]
  },
  {
   "cell_type": "code",
   "execution_count": 5,
   "id": "62f05806",
   "metadata": {},
   "outputs": [
    {
     "name": "stdout",
     "output_type": "stream",
     "text": [
      "Yearly mean relative difference:  0.04233421518474176\n",
      "Yearly O3 standard deviation for NILU data:  43.365297600078904\n"
     ]
    },
    {
     "data": {
      "image/png": "[encoded data removed]",
      "text/plain": [
       "<Figure size 432x288 with 1 Axes>"
      ]
     },
     "metadata": {
      "needs_background": "light"
     },
     "output_type": "display_data"
    }
   ],
   "source": [
    "#Plotting relative differance between NILU and OMI data\n",
    "import math\n",
    "\n",
    "relative_differance = (abs(df_omi['OMI_O3'] - ozone_daily_mean_nilu['O3_NILU'])) / (df_omi['OMI_O3'] + ozone_daily_mean_nilu['O3_NILU'])\n",
    "yearly_mean_relative_difference = relative_differance.mean()\n",
    "std_nilu = high_noons['O3_NILU'].std()\n",
    "print(\"Yearly mean relative difference: \" ,yearly_mean_relative_difference)\n",
    "print(\"Yearly O3 standard deviation for NILU data: \",std_nilu)\n",
    "\n",
    "plt.scatter(df_omi['DOY'], relative_differance, marker='.', color='black')\n",
    "plt.xlabel('Day of the year')\n",
    "plt.title('Relative daily differance between OMI and NILU O3 concentration')\n",
    "plt.savefig('OMI_NILU_O3_rel_diff_2019.pdf')\n",
    "plt.show()"
   ]
  },
  {
   "cell_type": "code",
   "execution_count": 6,
   "id": "0925dda3",
   "metadata": {},
   "outputs": [
    {
     "name": "stdout",
     "output_type": "stream",
     "text": [
      "Yearly mean absolute difference:  29.527806256132564\n",
      "Yearly O3 standard deviation for NILU data:  43.365297600078904\n",
      "Yearly O3 standard deviation for OMI data:  36.23773583369262\n"
     ]
    },
    {
     "data": {
      "image/png": "[encoded data removed]",
      "text/plain": [
       "<Figure size 432x288 with 1 Axes>"
      ]
     },
     "metadata": {
      "needs_background": "light"
     },
     "output_type": "display_data"
    },
    {
     "data": {
      "text/plain": [
       "<Figure size 432x288 with 0 Axes>"
      ]
     },
     "metadata": {},
     "output_type": "display_data"
    }
   ],
   "source": [
    "#Plotting relative differance between NILU and OMI data, calculating STD for NILU and OMI yearly data\n",
    "\n",
    "absolute_differance = (abs(df_omi['OMI_O3']-high_noons['O3_NILU']))\n",
    "yearly_mean_absolute_difference = absolute_differance.mean()\n",
    "std_nilu = high_noons['O3_NILU'].std()\n",
    "std_omi = df_omi['OMI_O3'].std()\n",
    "print(\"Yearly mean absolute difference: \" ,yearly_mean_absolute_difference)\n",
    "print(\"Yearly O3 standard deviation for NILU data: \",std_nilu)\n",
    "print(\"Yearly O3 standard deviation for OMI data: \",std_omi)\n",
    "\n",
    "plt.scatter(df_omi['DOY'], absolute_differance, marker='.', color='black')\n",
    "plt.xlabel('Day of the year')\n",
    "plt.title('Absolute daily differance between OMI and NILU O3 concentration')\n",
    "plt.show()\n",
    "plt.savefig('OMI_NILU_O3_abs_diff_2019.pdf')"
   ]
  },
  {
   "cell_type": "code",
   "execution_count": 7,
   "id": "beba6a27",
   "metadata": {},
   "outputs": [
    {
     "data": {
      "image/png": "[encoded data removed]",
      "text/plain": [
       "<Figure size 432x288 with 1 Axes>"
      ]
     },
     "metadata": {
      "needs_background": "light"
     },
     "output_type": "display_data"
    }
   ],
   "source": [
    "#Plotting cloud optical depth (predicted from NN) vs DOY\n",
    "#print(cod_daily_mean_nilu)\n",
    "#print(relative_differance)\n",
    "plt.ylabel('Daily mean cloud optical depth')\n",
    "plt.xlabel('DOY')\n",
    "plt.ylim([0, 100])\n",
    "#plt.xlim([0, 50])\n",
    "plt.scatter(cod_daily_mean_nilu['DOY_NILU'], cod_daily_mean_nilu['COD_NILU_CORR'], marker='.', color='black')\n",
    "plt.savefig('COD_vs_DOY_2019.pdf')"
   ]
  },
  {
   "cell_type": "code",
   "execution_count": 8,
   "id": "bb6c5e6c",
   "metadata": {},
   "outputs": [
    {
     "name": "stdout",
     "output_type": "stream",
     "text": [
      "365\n",
      "209\n"
     ]
    },
    {
     "ename": "ValueError",
     "evalue": "x and y must be the same size",
     "output_type": "error",
     "traceback": [
      "\u001b[1;31m---------------------------------------------------------------------------\u001b[0m",
      "\u001b[1;31mValueError\u001b[0m                                Traceback (most recent call last)",
      "Input \u001b[1;32mIn [8]\u001b[0m, in \u001b[0;36m<cell line: 6>\u001b[1;34m()\u001b[0m\n\u001b[0;32m      4\u001b[0m plt\u001b[38;5;241m.\u001b[39mylabel(\u001b[38;5;124m'\u001b[39m\u001b[38;5;124mCloud optical depth\u001b[39m\u001b[38;5;124m'\u001b[39m)\n\u001b[0;32m      5\u001b[0m plt\u001b[38;5;241m.\u001b[39mxlabel(\u001b[38;5;124m'\u001b[39m\u001b[38;5;124mRelativ difference\u001b[39m\u001b[38;5;124m'\u001b[39m)\n\u001b[1;32m----> 6\u001b[0m \u001b[43mplt\u001b[49m\u001b[38;5;241;43m.\u001b[39;49m\u001b[43mscatter\u001b[49m\u001b[43m(\u001b[49m\u001b[43mrelative_differance\u001b[49m\u001b[43m,\u001b[49m\u001b[43m \u001b[49m\u001b[43mcod_daily_mean_nilu\u001b[49m\u001b[43m[\u001b[49m\u001b[38;5;124;43m'\u001b[39;49m\u001b[38;5;124;43mCOD_NILU_CORR\u001b[39;49m\u001b[38;5;124;43m'\u001b[39;49m\u001b[43m]\u001b[49m\u001b[43m,\u001b[49m\u001b[43m \u001b[49m\u001b[43mmarker\u001b[49m\u001b[38;5;241;43m=\u001b[39;49m\u001b[38;5;124;43m'\u001b[39;49m\u001b[38;5;124;43m.\u001b[39;49m\u001b[38;5;124;43m'\u001b[39;49m\u001b[43m,\u001b[49m\u001b[43m \u001b[49m\u001b[43mcolor\u001b[49m\u001b[38;5;241;43m=\u001b[39;49m\u001b[38;5;124;43m'\u001b[39;49m\u001b[38;5;124;43mblack\u001b[39;49m\u001b[38;5;124;43m'\u001b[39;49m\u001b[43m)\u001b[49m\n\u001b[0;32m      7\u001b[0m plt\u001b[38;5;241m.\u001b[39mylim([\u001b[38;5;241m0\u001b[39m, \u001b[38;5;241m70\u001b[39m])\n\u001b[0;32m      8\u001b[0m plt\u001b[38;5;241m.\u001b[39mxlim([\u001b[38;5;241m0\u001b[39m, \u001b[38;5;241m0.1\u001b[39m])\n",
      "File \u001b[1;32m~\\AppData\\Local\\Programs\\Python\\Python310\\lib\\site-packages\\matplotlib\\pyplot.py:2817\u001b[0m, in \u001b[0;36mscatter\u001b[1;34m(x, y, s, c, marker, cmap, norm, vmin, vmax, alpha, linewidths, edgecolors, plotnonfinite, data, **kwargs)\u001b[0m\n\u001b[0;32m   2812\u001b[0m \u001b[38;5;129m@_copy_docstring_and_deprecators\u001b[39m(Axes\u001b[38;5;241m.\u001b[39mscatter)\n\u001b[0;32m   2813\u001b[0m \u001b[38;5;28;01mdef\u001b[39;00m \u001b[38;5;21mscatter\u001b[39m(\n\u001b[0;32m   2814\u001b[0m         x, y, s\u001b[38;5;241m=\u001b[39m\u001b[38;5;28;01mNone\u001b[39;00m, c\u001b[38;5;241m=\u001b[39m\u001b[38;5;28;01mNone\u001b[39;00m, marker\u001b[38;5;241m=\u001b[39m\u001b[38;5;28;01mNone\u001b[39;00m, cmap\u001b[38;5;241m=\u001b[39m\u001b[38;5;28;01mNone\u001b[39;00m, norm\u001b[38;5;241m=\u001b[39m\u001b[38;5;28;01mNone\u001b[39;00m,\n\u001b[0;32m   2815\u001b[0m         vmin\u001b[38;5;241m=\u001b[39m\u001b[38;5;28;01mNone\u001b[39;00m, vmax\u001b[38;5;241m=\u001b[39m\u001b[38;5;28;01mNone\u001b[39;00m, alpha\u001b[38;5;241m=\u001b[39m\u001b[38;5;28;01mNone\u001b[39;00m, linewidths\u001b[38;5;241m=\u001b[39m\u001b[38;5;28;01mNone\u001b[39;00m, \u001b[38;5;241m*\u001b[39m,\n\u001b[0;32m   2816\u001b[0m         edgecolors\u001b[38;5;241m=\u001b[39m\u001b[38;5;28;01mNone\u001b[39;00m, plotnonfinite\u001b[38;5;241m=\u001b[39m\u001b[38;5;28;01mFalse\u001b[39;00m, data\u001b[38;5;241m=\u001b[39m\u001b[38;5;28;01mNone\u001b[39;00m, \u001b[38;5;241m*\u001b[39m\u001b[38;5;241m*\u001b[39mkwargs):\n\u001b[1;32m-> 2817\u001b[0m     __ret \u001b[38;5;241m=\u001b[39m gca()\u001b[38;5;241m.\u001b[39mscatter(\n\u001b[0;32m   2818\u001b[0m         x, y, s\u001b[38;5;241m=\u001b[39ms, c\u001b[38;5;241m=\u001b[39mc, marker\u001b[38;5;241m=\u001b[39mmarker, cmap\u001b[38;5;241m=\u001b[39mcmap, norm\u001b[38;5;241m=\u001b[39mnorm,\n\u001b[0;32m   2819\u001b[0m         vmin\u001b[38;5;241m=\u001b[39mvmin, vmax\u001b[38;5;241m=\u001b[39mvmax, alpha\u001b[38;5;241m=\u001b[39malpha, linewidths\u001b[38;5;241m=\u001b[39mlinewidths,\n\u001b[0;32m   2820\u001b[0m         edgecolors\u001b[38;5;241m=\u001b[39medgecolors, plotnonfinite\u001b[38;5;241m=\u001b[39mplotnonfinite,\n\u001b[0;32m   2821\u001b[0m         \u001b[38;5;241m*\u001b[39m\u001b[38;5;241m*\u001b[39m({\u001b[38;5;124m\"\u001b[39m\u001b[38;5;124mdata\u001b[39m\u001b[38;5;124m\"\u001b[39m: data} \u001b[38;5;28;01mif\u001b[39;00m data \u001b[38;5;129;01mis\u001b[39;00m \u001b[38;5;129;01mnot\u001b[39;00m \u001b[38;5;28;01mNone\u001b[39;00m \u001b[38;5;28;01melse\u001b[39;00m {}), \u001b[38;5;241m*\u001b[39m\u001b[38;5;241m*\u001b[39mkwargs)\n\u001b[0;32m   2822\u001b[0m     sci(__ret)\n\u001b[0;32m   2823\u001b[0m     \u001b[38;5;28;01mreturn\u001b[39;00m __ret\n",
      "File \u001b[1;32m~\\AppData\\Local\\Programs\\Python\\Python310\\lib\\site-packages\\matplotlib\\__init__.py:1414\u001b[0m, in \u001b[0;36m_preprocess_data.<locals>.inner\u001b[1;34m(ax, data, *args, **kwargs)\u001b[0m\n\u001b[0;32m   1411\u001b[0m \u001b[38;5;129m@functools\u001b[39m\u001b[38;5;241m.\u001b[39mwraps(func)\n\u001b[0;32m   1412\u001b[0m \u001b[38;5;28;01mdef\u001b[39;00m \u001b[38;5;21minner\u001b[39m(ax, \u001b[38;5;241m*\u001b[39margs, data\u001b[38;5;241m=\u001b[39m\u001b[38;5;28;01mNone\u001b[39;00m, \u001b[38;5;241m*\u001b[39m\u001b[38;5;241m*\u001b[39mkwargs):\n\u001b[0;32m   1413\u001b[0m     \u001b[38;5;28;01mif\u001b[39;00m data \u001b[38;5;129;01mis\u001b[39;00m \u001b[38;5;28;01mNone\u001b[39;00m:\n\u001b[1;32m-> 1414\u001b[0m         \u001b[38;5;28;01mreturn\u001b[39;00m func(ax, \u001b[38;5;241m*\u001b[39m\u001b[38;5;28mmap\u001b[39m(sanitize_sequence, args), \u001b[38;5;241m*\u001b[39m\u001b[38;5;241m*\u001b[39mkwargs)\n\u001b[0;32m   1416\u001b[0m     bound \u001b[38;5;241m=\u001b[39m new_sig\u001b[38;5;241m.\u001b[39mbind(ax, \u001b[38;5;241m*\u001b[39margs, \u001b[38;5;241m*\u001b[39m\u001b[38;5;241m*\u001b[39mkwargs)\n\u001b[0;32m   1417\u001b[0m     auto_label \u001b[38;5;241m=\u001b[39m (bound\u001b[38;5;241m.\u001b[39marguments\u001b[38;5;241m.\u001b[39mget(label_namer)\n\u001b[0;32m   1418\u001b[0m                   \u001b[38;5;129;01mor\u001b[39;00m bound\u001b[38;5;241m.\u001b[39mkwargs\u001b[38;5;241m.\u001b[39mget(label_namer))\n",
      "File \u001b[1;32m~\\AppData\\Local\\Programs\\Python\\Python310\\lib\\site-packages\\matplotlib\\axes\\_axes.py:4368\u001b[0m, in \u001b[0;36mAxes.scatter\u001b[1;34m(self, x, y, s, c, marker, cmap, norm, vmin, vmax, alpha, linewidths, edgecolors, plotnonfinite, **kwargs)\u001b[0m\n\u001b[0;32m   4366\u001b[0m y \u001b[38;5;241m=\u001b[39m np\u001b[38;5;241m.\u001b[39mma\u001b[38;5;241m.\u001b[39mravel(y)\n\u001b[0;32m   4367\u001b[0m \u001b[38;5;28;01mif\u001b[39;00m x\u001b[38;5;241m.\u001b[39msize \u001b[38;5;241m!=\u001b[39m y\u001b[38;5;241m.\u001b[39msize:\n\u001b[1;32m-> 4368\u001b[0m     \u001b[38;5;28;01mraise\u001b[39;00m \u001b[38;5;167;01mValueError\u001b[39;00m(\u001b[38;5;124m\"\u001b[39m\u001b[38;5;124mx and y must be the same size\u001b[39m\u001b[38;5;124m\"\u001b[39m)\n\u001b[0;32m   4370\u001b[0m \u001b[38;5;28;01mif\u001b[39;00m s \u001b[38;5;129;01mis\u001b[39;00m \u001b[38;5;28;01mNone\u001b[39;00m:\n\u001b[0;32m   4371\u001b[0m     s \u001b[38;5;241m=\u001b[39m (\u001b[38;5;241m20\u001b[39m \u001b[38;5;28;01mif\u001b[39;00m rcParams[\u001b[38;5;124m'\u001b[39m\u001b[38;5;124m_internal.classic_mode\u001b[39m\u001b[38;5;124m'\u001b[39m] \u001b[38;5;28;01melse\u001b[39;00m\n\u001b[0;32m   4372\u001b[0m          rcParams[\u001b[38;5;124m'\u001b[39m\u001b[38;5;124mlines.markersize\u001b[39m\u001b[38;5;124m'\u001b[39m] \u001b[38;5;241m*\u001b[39m\u001b[38;5;241m*\u001b[39m \u001b[38;5;241m2.0\u001b[39m)\n",
      "\u001b[1;31mValueError\u001b[0m: x and y must be the same size"
     ]
    },
    {
     "data": {
      "image/png": "[encoded data removed]",
      "text/plain": [
       "<Figure size 432x288 with 1 Axes>"
      ]
     },
     "metadata": {
      "needs_background": "light"
     },
     "output_type": "display_data"
    }
   ],
   "source": [
    "#plotting relativ difference vs COD\n",
    "print(len(relative_differance))\n",
    "print(len(cod_daily_mean_nilu['COD_NILU_CORR']))\n",
    "plt.ylabel('Cloud optical depth')\n",
    "plt.xlabel('Relativ difference')\n",
    "plt.scatter(relative_differance, cod_daily_mean_nilu['COD_NILU_CORR'], marker='.', color='black')\n",
    "plt.ylim([0, 70])\n",
    "plt.xlim([0, 0.1])\n",
    "plt.show()\n",
    "plt.savefig('Rel_diff_vs_COD_2019.pdf')"
   ]
  },
  {
   "cell_type": "code",
   "execution_count": null,
   "id": "5acdd02a",
   "metadata": {},
   "outputs": [],
   "source": [
    "import matplotlib.pyplot as plt\n",
    "import numpy as np\n",
    "\n",
    "import datetime\n",
    "import matplotlib.dates as mdates\n",
    "import pytz\n",
    "from dateutil import tz\n",
    "\n",
    "# Let's plot 1 day\n",
    "# Enter a day number:\n",
    "choosen_day = 153\n",
    "\n",
    "x=[ ]\n",
    "y=[ ]\n",
    "\n",
    "for i in range(len(df.DOY)):\n",
    "    if df.DOY[i] == choosen_day:\n",
    "        date2 = str(df.DATE[i])\n",
    "        year = date2[0:4]\n",
    "        month = date2[4:6]\n",
    "        day = date2[6:8]\n",
    "        time2 = str(df.TIMEUTC[i])\n",
    "        hour = time2[0:2]\n",
    "        minute = time2[2:]\n",
    "        my_datetime = datetime.datetime(int(year),int(month),int(day),int(hour),int(minute),0,0, tzinfo = pytz.utc)\n",
    "        my_datetime_utc = my_datetime.strftime('%Y-%m-%d %H:%M:%S %Z%z')\n",
    "#        my_datetime_est = my_datetime.astimezone(pytz.timezone('US/Eastern')).strftime('%Y-%m-%d %H:%M:%S %Z%z')\n",
    "        my_datetime_est = my_datetime.astimezone(pytz.timezone('US/Eastern'))\n",
    "#        print(my_datetime_est)\n",
    "        x.append(my_datetime_est)\n",
    "        y.append(df.O3[i])\n",
    "       \n",
    "fig, ax = plt.subplots()\n",
    "ax.xaxis.set_major_formatter(mdates.DateFormatter('%H:%M',tz=tz.gettz('US/Eastern')))\n",
    "fig.autofmt_xdate()\n",
    "\n",
    "#ax.plot(y, marker='.')\n",
    "#ax.set_xticks([i for i in range(len(y))])\n",
    "#ax.set_xticklabels(x)\n",
    "#ax.locator_params(nbins=10)\n",
    "\n",
    "\n",
    "plt.scatter(x, y, marker='.', color='black')\n",
    "plt.show()\n",
    "\n",
    "#print(y)"
   ]
  },
  {
   "cell_type": "code",
   "execution_count": null,
   "id": "cb85c0a0",
   "metadata": {},
   "outputs": [],
   "source": [
    "# Convert day number to date in particular year\n",
    "from datetime import datetime\n",
    "  \n",
    "# initializing day number\n",
    "day_num = \"153\"\n",
    "  \n",
    "# print day number\n",
    "print(\"The day number : \" + str(day_num))\n",
    "  \n",
    "# adjusting day num\n",
    "#day_num.rjust(3 + len(day_num), '0')\n",
    "  \n",
    "# Initialize year\n",
    "year = \"2014\"\n",
    "  \n",
    "# converting to date\n",
    "res = datetime.strptime(year + \"-\" + day_num, \"%Y-%j\").strftime(\"%m-%d-%Y\")\n",
    "  \n",
    "# printing result\n",
    "print(\"Resolved date : \" + str(res))"
   ]
  },
  {
   "cell_type": "code",
   "execution_count": null,
   "id": "6b64f418",
   "metadata": {},
   "outputs": [],
   "source": [
    "# Check how clear the day is by plotting raw ch5 vs time\n",
    "\n",
    "day = 153\n",
    "\n",
    "# Clean days found so far:\n",
    "# 2014: 110, 153\n",
    "\n",
    "ch5  = timestamp[1]\n",
    "ch5df = pd.DataFrame({'CH5': ch5})\n",
    "\n",
    "\n",
    "CH5=[ ]\n",
    "for i in range(len(df.DOY)):\n",
    "    if df.DOY[i] == day:\n",
    "        CH5.append(ch5df.CH5[i])\n",
    "        \n",
    "        \n",
    "T = range(len(CH5))      \n",
    "\n",
    "\n",
    "    \n",
    "plt.tight_layout()\n",
    "plt.plot(T, CH5, color='gray')\n",
    "plt.show()"
   ]
  },
  {
   "cell_type": "code",
   "execution_count": null,
   "id": "99b3c076",
   "metadata": {},
   "outputs": [],
   "source": []
  }
 ],
 "metadata": {
  "kernelspec": {
   "display_name": "Python 3 (ipykernel)",
   "language": "python",
   "name": "python3"
  },
  "language_info": {
   "codemirror_mode": {
    "name": "ipython",
    "version": 3
   },
   "file_extension": ".py",
   "mimetype": "text/x-python",
   "name": "python",
   "nbconvert_exporter": "python",
   "pygments_lexer": "ipython3",
   "version": "3.10.5"
  }
 },
 "nbformat": 4,
 "nbformat_minor": 5
}
