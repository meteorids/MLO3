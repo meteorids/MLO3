{
 "cells": [
  {
   "cell_type": "code",
   "execution_count": null,
   "id": "3d52798e",
   "metadata": {},
   "outputs": [],
   "source": [
    "#This code reads Input_Irradiance_p1 files and corrects it\n",
    "#The second column contains wrong AOD values. This script calculates the correct AOD from the third column (volume fraction) \n",
    "#and overwrites the second column with the corrected values"
   ]
  },
  {
   "cell_type": "code",
   "execution_count": 45,
   "id": "59352628",
   "metadata": {},
   "outputs": [
    {
     "name": "stdout",
     "output_type": "stream",
     "text": [
      "4000\n",
      "    0       1       2         3         4         5         6         7    \\\n",
      "0  24.0  0.8977  3.8198  0.245554  0.240032  0.171756  0.216244  0.134341   \n",
      "1  35.0  1.0332  2.4814  0.220182  0.215231  0.154009  0.193901  0.120460   \n",
      "2  17.0  0.7658  9.5723  0.257048  0.251267  0.179795  0.226366  0.140629   \n",
      "3  40.0  0.7576  5.5222  0.205907  0.201277  0.144024  0.181330  0.112650   \n",
      "4  28.0  0.9272  7.9473  0.237330  0.231993  0.166003  0.209002  0.129842   \n",
      "\n",
      "        8         9    ...       111       112       113       114       115  \\\n",
      "0  0.144689  0.207375  ...  1.353480  1.067755  1.046229  1.150983  0.856198   \n",
      "1  0.129739  0.185948  ...  1.213629  0.957427  0.938126  1.032056  0.767730   \n",
      "2  0.151462  0.217082  ...  1.416831  1.117732  1.095199  1.204856  0.896274   \n",
      "3  0.121328  0.173892  ...  1.134947  0.895355  0.877305  0.965146  0.717957   \n",
      "4  0.139843  0.200429  ...  1.308147  1.031992  1.011187  1.112433  0.827521   \n",
      "\n",
      "        116       117       118       119       120  \n",
      "0  0.642515  0.785238  1.049437  0.909654  0.946648  \n",
      "1  0.576126  0.704103  0.941003  0.815663  0.848834  \n",
      "2  0.672589  0.821992  1.098557  0.952231  0.990957  \n",
      "3  0.538775  0.658454  0.879995  0.762781  0.793802  \n",
      "4  0.620995  0.758938  1.014288  0.879186  0.914942  \n",
      "\n",
      "[5 rows x 121 columns]\n"
     ]
    }
   ],
   "source": [
    "import pandas as pd\n",
    "import numpy as np\n",
    "import math\n",
    "print(len(data))\n",
    "data = pd.read_csv('Input_Irradiance_p1.txt',  sep=r'\\s+', header=None)\n",
    "print(data.head())\n",
    "data[1]=(0.00005671 + 12381502660*data[2]*10**-11)/data[0].apply(lambda x: math.cos(math.radians(x)))\n",
    "\n",
    "data.to_csv('Input_Irradiance_p1_corrected.txt', sep='\\t' ,index=False,index_label=False,header = False, float_format = \"%.8f\")"
   ]
  },
  {
   "cell_type": "code",
   "execution_count": null,
   "id": "b9576444",
   "metadata": {},
   "outputs": [],
   "source": []
  },
  {
   "cell_type": "code",
   "execution_count": null,
   "id": "40e462f0",
   "metadata": {},
   "outputs": [],
   "source": []
  }
 ],
 "metadata": {
  "kernelspec": {
   "display_name": "Python 3 (ipykernel)",
   "language": "python",
   "name": "python3"
  },
  "language_info": {
   "codemirror_mode": {
    "name": "ipython",
    "version": 3
   },
   "file_extension": ".py",
   "mimetype": "text/x-python",
   "name": "python",
   "nbconvert_exporter": "python",
   "pygments_lexer": "ipython3",
   "version": "3.10.5"
  }
 },
 "nbformat": 4,
 "nbformat_minor": 5
}
