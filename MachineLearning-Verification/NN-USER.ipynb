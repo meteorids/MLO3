{
 "cells": [
  {
   "cell_type": "code",
   "execution_count": 1,
   "id": "e0cda35c",
   "metadata": {},
   "outputs": [],
   "source": [
    "#This code is to use the already trained Neural Network\n",
    "# Milos 2022.11.03\n",
    "\n",
    "import numpy as np\n",
    "import pickle\n",
    "#from numpy import asarray\n",
    "from sklearn.preprocessing import MinMaxScaler\n"
   ]
  },
  {
   "cell_type": "code",
   "execution_count": 3,
   "id": "1f099ea9",
   "metadata": {},
   "outputs": [
    {
     "ename": "NameError",
     "evalue": "name 'scaler' is not defined",
     "output_type": "error",
     "traceback": [
      "\u001b[0;31m---------------------------------------------------------------------------\u001b[0m",
      "\u001b[0;31mNameError\u001b[0m                                 Traceback (most recent call last)",
      "\u001b[0;32m<ipython-input-3-31001b00146e>\u001b[0m in \u001b[0;36m<module>\u001b[0;34m\u001b[0m\n\u001b[1;32m      8\u001b[0m \u001b[0;31m#scaler = MinMaxScaler()\u001b[0m\u001b[0;34m\u001b[0m\u001b[0;34m\u001b[0m\u001b[0;34m\u001b[0m\u001b[0m\n\u001b[1;32m      9\u001b[0m \u001b[0;34m\u001b[0m\u001b[0m\n\u001b[0;32m---> 10\u001b[0;31m \u001b[0mscaled_input_data\u001b[0m \u001b[0;34m=\u001b[0m \u001b[0mscaler\u001b[0m\u001b[0;34m.\u001b[0m\u001b[0mfit_transform\u001b[0m\u001b[0;34m(\u001b[0m\u001b[0minput_data\u001b[0m\u001b[0;34m)\u001b[0m\u001b[0;34m\u001b[0m\u001b[0;34m\u001b[0m\u001b[0m\n\u001b[0m\u001b[1;32m     11\u001b[0m \u001b[0;34m\u001b[0m\u001b[0m\n\u001b[1;32m     12\u001b[0m \u001b[0;34m\u001b[0m\u001b[0m\n",
      "\u001b[0;31mNameError\u001b[0m: name 'scaler' is not defined"
     ]
    }
   ],
   "source": [
    "#Loading the Neural Network\n",
    "model1Ozone = pickle.load(open('net/model1-ozone', 'rb'))\n",
    "\n",
    "#Loading the input data\n",
    "input_data =  np.loadtxt('Data/validation1.txt')\n",
    "\n",
    "#Scaling the input data\n",
    "#scaler = MinMaxScaler()\n",
    "\n",
    "scaled_input_data = scaler.fit_transform(input_data)\n",
    "\n",
    "\n",
    "#X = scaler.fit(input_data)\n",
    "\n",
    "#using the NN to predict output. syntax: nn-name.predict(inputdataname)\n",
    "output_data = model1Ozone.predict(input_data)\n",
    "\n",
    "\n",
    "output_data\n",
    "\n",
    "\n",
    "\n",
    "nnoutput=mlnn.predict(trainx)\n"
   ]
  },
  {
   "cell_type": "code",
   "execution_count": null,
   "id": "017714fe",
   "metadata": {},
   "outputs": [],
   "source": []
  },
  {
   "cell_type": "code",
   "execution_count": null,
   "id": "c696e30d",
   "metadata": {},
   "outputs": [],
   "source": []
  }
 ],
 "metadata": {
  "kernelspec": {
   "display_name": "Python 3",
   "language": "python",
   "name": "python3"
  },
  "language_info": {
   "codemirror_mode": {
    "name": "ipython",
    "version": 3
   },
   "file_extension": ".py",
   "mimetype": "text/x-python",
   "name": "python",
   "nbconvert_exporter": "python",
   "pygments_lexer": "ipython3",
   "version": "3.7.4"
  }
 },
 "nbformat": 4,
 "nbformat_minor": 5
}
