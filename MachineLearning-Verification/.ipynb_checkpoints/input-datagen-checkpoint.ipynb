{
 "cells": [
  {
   "cell_type": "code",
   "execution_count": 72,
   "id": "439be7de",
   "metadata": {},
   "outputs": [],
   "source": [
    "# This code is to creat the input data from AccuRT synthetic dataset for verification input to the NN.\n",
    "\n",
    "import pandas as pd\n",
    "\n",
    "\n",
    "df = pd.read_csv('./AccuRT-Data/ML-input5.txt', header=None, sep=r'\\s+')\n",
    "\n",
    "sza   = df.iloc[:, 0]\n",
    "ch5   = df.iloc[:, 3]\n",
    "ratio = df.iloc[:, 4]\n",
    "\n",
    "data = pd.DataFrame([sza, ch5, ratio]).T\n",
    "\n",
    "\n",
    "\n",
    "data\n",
    "\n",
    "data.to_csv('validation5.txt', sep=' ', index =False, header=None)\n"
   ]
  }
 ],
 "metadata": {
  "kernelspec": {
   "display_name": "Python 3",
   "language": "python",
   "name": "python3"
  },
  "language_info": {
   "codemirror_mode": {
    "name": "ipython",
    "version": 3
   },
   "file_extension": ".py",
   "mimetype": "text/x-python",
   "name": "python",
   "nbconvert_exporter": "python",
   "pygments_lexer": "ipython3",
   "version": "3.7.4"
  }
 },
 "nbformat": 4,
 "nbformat_minor": 5
}
