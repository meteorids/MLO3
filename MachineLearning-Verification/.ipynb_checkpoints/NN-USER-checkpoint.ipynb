{
 "cells": [
  {
   "cell_type": "code",
   "execution_count": 1,
   "id": "6d060419",
   "metadata": {},
   "outputs": [],
   "source": [
    "#This code is to use the already trained Neural Network\n",
    "# Milos 2022.11.03\n",
    "\n",
    "import numpy as np\n",
    "import pickle\n",
    "#from numpy import asarray\n",
    "from sklearn.preprocessing import MinMaxScaler"
   ]
  },
  {
   "cell_type": "code",
   "execution_count": 2,
   "id": "a8fc2aba",
   "metadata": {},
   "outputs": [],
   "source": [
    "#Loading the Neural Network\n",
    "model1Ozone = pickle.load(open('net/model1-ozone', 'rb'))\n",
    "\n",
    "#Loading the input data\n",
    "input_data =  np.loadtxt('Data/validation1.txt')\n",
    "\n",
    "#Scaling the input data\n",
    "scaler = MinMaxScaler()\n",
    "scaled_input_data = scaler.transform(input_data)\n",
    "\n",
    "#using the NN to predict output. syntax: nn-name.predict(inputdataname)\n",
    "output_data = model1Ozone.predict(scaled_input_data)\n",
    "\n",
    "\n"
   ]
  },
  {
   "cell_type": "code",
   "execution_count": null,
   "id": "5b678865",
   "metadata": {},
   "outputs": [],
   "source": []
  }
 ],
 "metadata": {
  "kernelspec": {
   "display_name": "Python 3",
   "language": "python",
   "name": "python3"
  },
  "language_info": {
   "codemirror_mode": {
    "name": "ipython",
    "version": 3
   },
   "file_extension": ".py",
   "mimetype": "text/x-python",
   "name": "python",
   "nbconvert_exporter": "python",
   "pygments_lexer": "ipython3",
   "version": "3.7.4"
  }
 },
 "nbformat": 4,
 "nbformat_minor": 5
}
