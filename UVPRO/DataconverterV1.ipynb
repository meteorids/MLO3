{
 "cells": [
  {
   "cell_type": "code",
   "execution_count": 1,
   "id": "0485bebf",
   "metadata": {},
   "outputs": [],
   "source": [
    "import pandas as pd\n",
    "import numpy as np\n",
    "import math"
   ]
  },
  {
   "cell_type": "code",
   "execution_count": 2,
   "id": "80d7beb2",
   "metadata": {},
   "outputs": [
    {
     "name": "stdout",
     "output_type": "stream",
     "text": [
      "20190829 1346 4.425E+03 2.130E+05 2.689E+05 3.460E+05 4.316E+04 2.350E+05 50.00\n"
     ]
    }
   ],
   "source": [
    "data = pd.read_csv('./NILU-OUT/temp/nilu-CLEAN-2020-23.txt',   header=None, sep = \"\\s+\")\n",
    "data.columns = [\"date\", \"time\", \"channel1\", \"channel2\", \"channel3\", \"channel4\", \"channel5\", \"channel6\", \"50\"]\n",
    "import datetime\n",
    "from pysolar.solar import *\n",
    "\n",
    "infile = open('./NILU-OUT/temp/nilu-CLEAN-2020-23.txt', 'r')\n",
    "raw_data =  infile.read()\n",
    "infile.close()\n",
    "rows = raw_data.split(\"\\n\")\n"
   ]
  },
  {
   "cell_type": "code",
   "execution_count": 3,
   "id": "7269f9ff",
   "metadata": {},
   "outputs": [],
   "source": [
    "date_list = set(data.date)\n",
    "\n",
    "for date in date_list:\n",
    "    date = str(date)\n",
    "    filename = 'R' + date[6:8] + date[4:6] + date[2:4] + 'a.115'\n",
    "    file = open('../Data/NILU115/Lookuptable/' + filename , 'w')\n",
    "    for i in range(len(data)):\n",
    "        if str(data[\"date\"][i]) == date:\n",
    "            file.write(rows[i] + \"\\n\")\n",
    "    file.close()\n"
   ]
  },
  {
   "cell_type": "code",
   "execution_count": null,
   "id": "786c3c7d",
   "metadata": {},
   "outputs": [],
   "source": []
  }
 ],
 "metadata": {
  "kernelspec": {
   "display_name": "Python 3 (ipykernel)",
   "language": "python",
   "name": "python3"
  },
  "language_info": {
   "codemirror_mode": {
    "name": "ipython",
    "version": 3
   },
   "file_extension": ".py",
   "mimetype": "text/x-python",
   "name": "python",
   "nbconvert_exporter": "python",
   "pygments_lexer": "ipython3",
   "version": "3.10.5"
  }
 },
 "nbformat": 4,
 "nbformat_minor": 5
}
