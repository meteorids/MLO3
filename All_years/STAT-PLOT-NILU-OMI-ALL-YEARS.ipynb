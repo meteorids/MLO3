{
 "cells": [
  {
   "cell_type": "code",
   "execution_count": 1,
   "id": "a65d02b0",
   "metadata": {},
   "outputs": [],
   "source": [
    "# milostipanov@gmail.com \n",
    "# https://github.com/meteorids\n",
    "# 2022\n",
    "\n",
    "#This Code is to process the output from the NeuralNetwork-Predict. Creating plots and statistics. Will combine the output file from the NN and the NILU-data-process for time stamps."
   ]
  },
  {
   "cell_type": "code",
   "execution_count": 2,
   "id": "96ef35a4",
   "metadata": {},
   "outputs": [
    {
     "name": "stdout",
     "output_type": "stream",
     "text": [
      "          index  DATE_NILU  TIMEUTC_NILU  DOY_NILU  SZA_NILU     O3_NILU  \\\n",
      "0             0   20140101          1455         1    69.953  282.436448   \n",
      "1             1   20140101          1456         1    69.857  283.228482   \n",
      "2             2   20140101          1457         1    69.762  284.583437   \n",
      "3             3   20140101          1458         1    69.668  285.672363   \n",
      "4             4   20140101          1459         1    69.574  286.715696   \n",
      "...         ...        ...           ...       ...       ...         ...   \n",
      "1748942  110395   20190730          2215       211    69.227  196.274941   \n",
      "1748943  110396   20190730          2216       211    69.415  212.129888   \n",
      "1748944  110397   20190730          2217       211    69.602  200.130448   \n",
      "1748945  110398   20190730          2218       211    69.790  200.811479   \n",
      "1748946  110399   20190730          2219       211    69.978  203.331851   \n",
      "\n",
      "         COD_NILU  \n",
      "0        3.296148  \n",
      "1        3.153004  \n",
      "2        2.855082  \n",
      "3        2.552121  \n",
      "4        2.346342  \n",
      "...           ...  \n",
      "1748942  0.014035  \n",
      "1748943  0.023672  \n",
      "1748944  0.016322  \n",
      "1748945  0.016975  \n",
      "1748946  0.018726  \n",
      "\n",
      "[1748947 rows x 7 columns]\n",
      "          DATE     O3_NILU        COD\n",
      "0     20140101  298.391888   3.727753\n",
      "1     20140102  260.118780  58.887276\n",
      "2     20140103  331.913116   0.369823\n",
      "3     20140104  285.015283   0.176811\n",
      "4     20140105  278.548741  28.189771\n",
      "...        ...         ...        ...\n",
      "1563  20190726  337.301140   0.225001\n",
      "1564  20190727  332.829366   0.742059\n",
      "1565  20190728  313.637252   0.216624\n",
      "1566  20190729  317.269401   0.670762\n",
      "1567  20190730  311.763392   2.845087\n",
      "\n",
      "[1568 rows x 3 columns]\n",
      "<class 'pandas.core.frame.DataFrame'>\n"
     ]
    }
   ],
   "source": [
    "#This block reads the daily data from NN-output and NILU-data-process output.\n",
    "\n",
    "import pandas as pd\n",
    "import numpy as np\n",
    "import math\n",
    "from datetime import datetime\n",
    "# Seting up data:\n",
    "\n",
    "namestring = '_all_year'\n",
    "\n",
    "df_nilu = pd.DataFrame()\n",
    "for year in range(2014,2020):\n",
    "    measurement_year = str(year)\n",
    "    processed_data = pd.read_csv('../MachineLearning-NILU/nnoutput_'+measurement_year+'.txt',  sep=r'\\s+', header=None)\n",
    "    timestamp     = pd.read_csv('./NILU-OUT/processed_nilu_'+measurement_year+'.txt',  sep=r'\\s+', header=None)\n",
    "\n",
    "    #year = str(timestamp[1])\n",
    "    date_nilu = timestamp[3]\n",
    "    time_nilu = timestamp[5]\n",
    "    doy_nilu  = timestamp[4]\n",
    "    sza_nilu  = timestamp[0]\n",
    "    scaled_ozone_nilu   = processed_data[0]\n",
    "    vol_frac_nilu       = processed_data[1]*10**-7\n",
    "\n",
    "    # Converting scaled ozone to Dobson Units\n",
    "    # Scaled to standard US atmosphere, the equivalent depth of ozone is 3.45×10^−3 m, in Dobson units= 345 DU. 1 eqd = 10^5 DU\n",
    "    ozone_DU_nilu = scaled_ozone_nilu*345\n",
    "    # Converting cloud particle vol. frac. to COD. Based on simulations. see code: COD_vs_volfrac.ipynb\n",
    "    cod_nilu = vol_frac_nilu*152596238.214\n",
    "\n",
    "\n",
    "    df = pd.DataFrame({'DATE_NILU': date_nilu,\n",
    "                   'TIMEUTC_NILU': time_nilu,\n",
    "                    'DOY_NILU': doy_nilu,\n",
    "                   'SZA_NILU': sza_nilu,\n",
    "                   'O3_NILU': ozone_DU_nilu,\n",
    "                   'COD_NILU': cod_nilu})\n",
    "    df_nilu = pd.concat([df_nilu, df])\n",
    "\n",
    "df_nilu = df_nilu.reset_index()\n",
    "print(df_nilu)\n",
    "df_nilu.to_csv(\"./STATS-PLOTS-OUT/dataframe.csv\")\n",
    "mylambda1 = lambda x: math.cos(math.radians(x))\n",
    "df_nilu['SZA_COS_NILU'] = df_nilu['SZA_NILU'].apply(mylambda1)\n",
    "df_nilu['COD_NILU_CORR'] = df_nilu['COD_NILU']/df_nilu['SZA_COS_NILU']\n",
    "\n",
    "high_noons = df_nilu.loc[df_nilu.groupby('DOY_NILU').SZA_NILU.idxmin()].reset_index()\n",
    "\n",
    "# creating a lambda function, to filter out the outliners\n",
    "mylambda2 = lambda x: x if x > 200 else np.nan\n",
    "high_noons['O3_NILU'] = high_noons['O3_NILU'].apply(mylambda2)\n",
    "\n",
    "#daily means:\n",
    "ozone_daily_mean_nilu = df_nilu.groupby('DATE_NILU').O3_NILU.mean().reset_index()\n",
    "ozone_daily_mean_nilu.rename(columns = {'DATE_NILU':'DATE'}, inplace = True)\n",
    "\n",
    "cod_daily_mean_nilu = df_nilu.groupby('DATE_NILU').COD_NILU.mean().reset_index()\n",
    "#doy_nilu = df_nilu.groupby('DOY_NILU').mean().reset_index()\n",
    "ozone_daily_mean_nilu['COD'] = cod_daily_mean_nilu['COD_NILU'] \n",
    "ozone_daily_mean_nilu['DATE'] = ozone_daily_mean_nilu['DATE'].astype(str)\n",
    "\n",
    "#print(cod_daily_mean_nilu)\n",
    "print(ozone_daily_mean_nilu)\n",
    "print(type(ozone_daily_mean_nilu))\n"
   ]
  },
  {
   "cell_type": "code",
   "execution_count": 3,
   "id": "934c06ab",
   "metadata": {},
   "outputs": [
    {
     "name": "stdout",
     "output_type": "stream",
     "text": [
      "      index  Unnamed: 0  YEAR  MONTH  DAY  DOY      OMI_O3      DATE\n",
      "0         0           0  2014      1    1    1  342.000000  20140101\n",
      "1         1           1  2014      1    2    2  302.000000  20140102\n",
      "2         2           2  2014      1    3    3  345.399994  20140103\n",
      "3         3           3  2014      1    4    4         NaN  20140104\n",
      "4         4           4  2014      1    5    5  307.000000  20140105\n",
      "...     ...         ...   ...    ...  ...  ...         ...       ...\n",
      "2167    360         360  2019     12   27  361         NaN  20191227\n",
      "2168    361         361  2019     12   28  362  318.299988  20191228\n",
      "2169    362         362  2019     12   29  363         NaN  20191229\n",
      "2170    363         363  2019     12   30  364  305.500000  20191230\n",
      "2171    364         364  2019     12   31  365         NaN  20191231\n",
      "\n",
      "[2172 rows x 8 columns]\n",
      "<class 'pandas.core.frame.DataFrame'>\n"
     ]
    }
   ],
   "source": [
    "#Reads OMI data\n",
    "df_omi = pd.DataFrame()\n",
    "for year in range(2014,2020):\n",
    "    measurement_year = str(year)\n",
    "    df = pd.read_csv('./OMI-dataprocess-output/omi_'+measurement_year+'.csv',  sep=r',', header=0)\n",
    "\n",
    " #   year_omi = df_omi['YEAR']\n",
    " #   month_omi = df_omi['MONTH']\n",
    " #   day_omi = df_omi['DAY']\n",
    " #   doy_omi = df_omi['DOY']\n",
    " #   ozone_daily_mean_omi = df_omi['OMI_O3']\n",
    "    \n",
    "#    df['DATE'] = pd.to_datetime(df[['YEAR', 'MONTH', 'DAY']]).assign(DAY=1)\n",
    "    df['DATE'] = pd.to_datetime(df[['YEAR', 'MONTH', 'DAY']], format='%Y%m%d' ) \n",
    "#    df['DATE'] = df['DATE'].strftime(format='%Y%m%d')\n",
    "    df_omi = pd.concat([df_omi, df])\n",
    "\n",
    "df_omi = df_omi.reset_index()\n",
    "df_omi['DATE'] = df_omi['DATE'].apply(lambda x: datetime.strftime(x, '%Y%m%d'))\n",
    "df_omi['DATE'] = df_omi['DATE'].astype(str)\n",
    "#all_data['Order Day new'] = all_data['Order Day new'].dt.strftime('%Y-%m-%d')\n",
    "\n",
    "print(df_omi)\n",
    "print(type(df_omi))"
   ]
  },
  {
   "cell_type": "code",
   "execution_count": 28,
   "id": "99cc87b4",
   "metadata": {},
   "outputs": [
    {
     "name": "stdout",
     "output_type": "stream",
     "text": [
      "<class 'pandas.core.indexes.numeric.Int64Index'>\n",
      "      index  Unnamed: 0  YEAR  MONTH  DAY  DOY      OMI_O3      DATE  \\\n",
      "0         0           0  2014      1    1    1  342.000000  20140101   \n",
      "1         1           1  2014      1    2    2  302.000000  20140102   \n",
      "2         2           2  2014      1    3    3  345.399994  20140103   \n",
      "4         4           4  2014      1    5    5  307.000000  20140105   \n",
      "6         6           6  2014      1    7    7  358.899994  20140107   \n",
      "...     ...         ...   ...    ...  ...  ...         ...       ...   \n",
      "1563    206         206  2019      7   26  207  334.299988  20190726   \n",
      "1564    207         207  2019      7   27  208  328.299988  20190727   \n",
      "1565    208         208  2019      7   28  209  301.399994  20190728   \n",
      "1566    209         209  2019      7   29  210  324.500000  20190729   \n",
      "1567    210         210  2019      7   30  211  303.399994  20190730   \n",
      "\n",
      "         O3_NILU        COD  Absolute_diff  Relative_diff  \n",
      "0     298.391888   3.727753      43.608112       0.068096  \n",
      "1     260.118780  58.887276      41.881220       0.074506  \n",
      "2     331.913116   0.369823      13.486878       0.019912  \n",
      "4     278.548741  28.189771      28.451259       0.048589  \n",
      "6     343.588447   0.245185      15.311547       0.021796  \n",
      "...          ...        ...            ...            ...  \n",
      "1563  337.301140   0.225001       3.001152       0.004469  \n",
      "1564  332.829366   0.742059       4.529378       0.006851  \n",
      "1565  313.637252   0.216624      12.237258       0.019897  \n",
      "1566  317.269401   0.670762       7.230599       0.011267  \n",
      "1567  311.763392   2.845087       8.363398       0.013595  \n",
      "\n",
      "[1082 rows x 12 columns]\n",
      "Mean relative difference for COD < 5 : 0.032516752370505934\n",
      "Mean relative difference for 10 < COD < 5 : 0.03018263258448063\n",
      "Mean relative difference for 10 < COD < 20 : 0.03192093625642777\n",
      "Mean relative difference for 20 < COD  : 0.033975055279305576\n",
      "R^2 : 0.02047377592041555\n"
     ]
    }
   ],
   "source": [
    "#creating realtiv diff dataframe to merge OMI and NILU O3 data (if both exist) and calcule absolute and relative differance\n",
    "\n",
    "from sklearn.linear_model import LinearRegression\n",
    "\n",
    "diff = pd.merge(df_omi, ozone_daily_mean_nilu, on='DATE')\n",
    "index_names = diff[ (diff['OMI_O3'].isnull() ) | (diff['O3_NILU'].isnull() )].index\n",
    "print(type(index_names))\n",
    "diff.drop(index_names, inplace = True)\n",
    "diff['Absolute_diff'] = (diff['OMI_O3']-diff['O3_NILU']).abs()\n",
    "diff['Relative_diff'] = diff['Absolute_diff'] / (diff['OMI_O3'] + diff['O3_NILU'])\n",
    "print(diff)\n",
    "\n",
    "#separating the data based on COD: 5 > COD; 10 > COD > 5 ....\n",
    "diff_5 = diff.loc[(diff['COD'] < 5)].reset_index()\n",
    "diff_5_10 = diff.loc[(diff['COD'] > 5 ) & ( diff['COD'] < 10 )].reset_index()\n",
    "diff_10_20 = diff.loc[(diff['COD'] > 10 ) & ( diff['COD'] < 20 )].reset_index()\n",
    "diff_20 = diff.loc[(diff['COD'] > 20)].reset_index()\n",
    "\n",
    "rel_diff_5 = diff_5['Relative_diff'].mean()\n",
    "rel_diff_5_10 = diff_5_10['Relative_diff'].mean()\n",
    "rel_diff_10_20 = diff_10_20['Relative_diff'].mean()\n",
    "rel_diff_20 = diff_20['Relative_diff'].mean()\n",
    "\n",
    "print('Mean relative difference for COD < 5 : '+str(rel_diff_5))\n",
    "print('Mean relative difference for 10 < COD < 5 : '+str(rel_diff_5_10))\n",
    "print('Mean relative difference for 10 < COD < 20 : '+str(rel_diff_10_20))\n",
    "print('Mean relative difference for 20 < COD  : '+str(rel_diff_20))\n",
    "\n",
    "model = LinearRegression()\n",
    "X = diff_5['COD'].values.reshape(-1,1)\n",
    "Y = diff_5['Relative_diff'].values.reshape(-1,1)\n",
    "model.fit(X,Y)\n",
    "r_sq = model.score(X, Y)\n",
    "print('R^2 : '+str(r_sq) )"
   ]
  },
  {
   "cell_type": "code",
   "execution_count": null,
   "id": "0e6c6ce1",
   "metadata": {},
   "outputs": [],
   "source": [
    "#Plotting daily average ozone concentration (NILU,OMI)\n",
    "#%matplotlib inline\n",
    "import matplotlib.pyplot as plt\n",
    "plt.subplots(tight_layout=True)\n",
    "plt.scatter(df_omi['DOY'], df_omi['OMI_O3'], marker='.', color='grey')\n",
    "plt.scatter(ozone_daily_mean_nilu['DOY'], ozone_daily_mean_nilu['O3_NILU'], marker='+', color='black')\n",
    "plt.xlabel('Day of the year')\n",
    "plt.ylabel('Total Ozone Column  [DU]')\n",
    "plt.legend(['OMI','NILU'])\n",
    "\n",
    "plt.savefig('OMI_L3_NILU_O3_'+namestringr+'.pdf',dpi = 300)\n",
    "plt.show()\n",
    "        "
   ]
  },
  {
   "cell_type": "code",
   "execution_count": null,
   "id": "0925dda3",
   "metadata": {},
   "outputs": [],
   "source": [
    "#Plotting absolute differance between NILU and OMI data, calculating STD for NILU and OMI yearly data\n",
    "\n",
    "#absolute_differance = (abs(df_omi['OMI_O3']-high_noons['O3_NILU']))\n",
    "yearly_mean_absolute_difference = diff['Absolute_diff'].mean()\n",
    "std_nilu = high_noons['O3_NILU'].std()\n",
    "std_omi = df_omi['OMI_O3'].std()\n",
    "print(\"Yearly mean absolute difference: \" ,yearly_mean_absolute_difference)\n",
    "print(\"Yearly O3 standard deviation for NILU data: \",std_nilu)\n",
    "print(\"Yearly O3 standard deviation for OMI data: \",std_omi)\n",
    "\n",
    "plt.scatter(diff['DOY'], diff['Absolute_diff'], marker='.', color='black')\n",
    "plt.xlabel('Day of the year')\n",
    "plt.ylabel('Absolute O3 differance')\n",
    "plt.savefig('OMI_NILU_O3_abs_diff_'+namestring+'.pdf')\n",
    "plt.show()"
   ]
  },
  {
   "cell_type": "code",
   "execution_count": 7,
   "id": "62f05806",
   "metadata": {},
   "outputs": [
    {
     "name": "stdout",
     "output_type": "stream",
     "text": [
      "Yearly mean relative difference:  0.03242167156743927\n",
      "Yearly O3 standard deviation for NILU data:  51.3163830465507\n"
     ]
    },
    {
     "data": {
      "image/png": "[encoded data removed]",
      "text/plain": [
       "<Figure size 432x288 with 1 Axes>"
      ]
     },
     "metadata": {
      "needs_background": "light"
     },
     "output_type": "display_data"
    }
   ],
   "source": [
    "#Plotting relative differance between NILU and OMI data\n",
    "import math\n",
    "\n",
    "yearly_mean_relative_difference = diff['Relative_diff'].mean()\n",
    "std_nilu = high_noons['O3_NILU'].std()\n",
    "print(\"Yearly mean relative difference: \" ,yearly_mean_relative_difference)\n",
    "print(\"Yearly O3 standard deviation for NILU data: \",std_nilu)\n",
    "\n",
    "plt.scatter(diff['DOY'], diff['Relative_diff'], marker='.', color='black')\n",
    "plt.xlabel('Day of the year')\n",
    "plt.savefig('OMI_NILU_O3_rel_diff_'+namestring+'.pdf')\n",
    "plt.show()"
   ]
  },
  {
   "cell_type": "code",
   "execution_count": 8,
   "id": "cca26da6",
   "metadata": {},
   "outputs": [
    {
     "data": {
      "image/png": "[encoded data removed]",
      "text/plain": [
       "<Figure size 432x288 with 1 Axes>"
      ]
     },
     "metadata": {
      "needs_background": "light"
     },
     "output_type": "display_data"
    }
   ],
   "source": [
    "#plot COD vs relative difference\n",
    "\n",
    "plt.scatter(diff['COD'], diff['Relative_diff'], marker='.', color='black')\n",
    "plt.ylabel('Relative O3 differance')\n",
    "plt.xlabel('Cloud Optical Depth')\n",
    "plt.xlim([0, 100])\n",
    "plt.savefig('COD_vs_OMI_NILU_O3_rel_diff_'+namestring+'.pdf')\n",
    "plt.show()"
   ]
  },
  {
   "cell_type": "code",
   "execution_count": 9,
   "id": "bb6c5e6c",
   "metadata": {},
   "outputs": [
    {
     "data": {
      "image/png": "[encoded data removed]",
      "text/plain": [
       "<Figure size 432x288 with 1 Axes>"
      ]
     },
     "metadata": {
      "needs_background": "light"
     },
     "output_type": "display_data"
    }
   ],
   "source": [
    "#plot relativ difference vs COD\n",
    "\n",
    "plt.ylabel('Cloud optical depth')\n",
    "plt.xlabel('Relativ difference ')\n",
    "plt.scatter(diff['Relative_diff'], diff['COD'] , marker='.', color='black')\n",
    "plt.ylim([0, 70])\n",
    "plt.xlim([0, 0.1])\n",
    "plt.savefig('Rel_diff_vs_COD_'+namestring+'.pdf')\n",
    "plt.show()"
   ]
  },
  {
   "cell_type": "code",
   "execution_count": 10,
   "id": "beba6a27",
   "metadata": {},
   "outputs": [
    {
     "ename": "KeyError",
     "evalue": "'DOY_NILU'",
     "output_type": "error",
     "traceback": [
      "\u001b[1;31m---------------------------------------------------------------------------\u001b[0m",
      "\u001b[1;31mKeyError\u001b[0m                                  Traceback (most recent call last)",
      "File \u001b[1;32m~\\AppData\\Local\\Programs\\Python\\Python310\\lib\\site-packages\\pandas\\core\\indexes\\base.py:3803\u001b[0m, in \u001b[0;36mIndex.get_loc\u001b[1;34m(self, key, method, tolerance)\u001b[0m\n\u001b[0;32m   3802\u001b[0m \u001b[38;5;28;01mtry\u001b[39;00m:\n\u001b[1;32m-> 3803\u001b[0m     \u001b[38;5;28;01mreturn\u001b[39;00m \u001b[38;5;28;43mself\u001b[39;49m\u001b[38;5;241;43m.\u001b[39;49m\u001b[43m_engine\u001b[49m\u001b[38;5;241;43m.\u001b[39;49m\u001b[43mget_loc\u001b[49m\u001b[43m(\u001b[49m\u001b[43mcasted_key\u001b[49m\u001b[43m)\u001b[49m\n\u001b[0;32m   3804\u001b[0m \u001b[38;5;28;01mexcept\u001b[39;00m \u001b[38;5;167;01mKeyError\u001b[39;00m \u001b[38;5;28;01mas\u001b[39;00m err:\n",
      "File \u001b[1;32m~\\AppData\\Local\\Programs\\Python\\Python310\\lib\\site-packages\\pandas\\_libs\\index.pyx:138\u001b[0m, in \u001b[0;36mpandas._libs.index.IndexEngine.get_loc\u001b[1;34m()\u001b[0m\n",
      "File \u001b[1;32m~\\AppData\\Local\\Programs\\Python\\Python310\\lib\\site-packages\\pandas\\_libs\\index.pyx:165\u001b[0m, in \u001b[0;36mpandas._libs.index.IndexEngine.get_loc\u001b[1;34m()\u001b[0m\n",
      "File \u001b[1;32mpandas\\_libs\\hashtable_class_helper.pxi:5745\u001b[0m, in \u001b[0;36mpandas._libs.hashtable.PyObjectHashTable.get_item\u001b[1;34m()\u001b[0m\n",
      "File \u001b[1;32mpandas\\_libs\\hashtable_class_helper.pxi:5753\u001b[0m, in \u001b[0;36mpandas._libs.hashtable.PyObjectHashTable.get_item\u001b[1;34m()\u001b[0m\n",
      "\u001b[1;31mKeyError\u001b[0m: 'DOY_NILU'",
      "\nThe above exception was the direct cause of the following exception:\n",
      "\u001b[1;31mKeyError\u001b[0m                                  Traceback (most recent call last)",
      "Input \u001b[1;32mIn [10]\u001b[0m, in \u001b[0;36m<cell line: 8>\u001b[1;34m()\u001b[0m\n\u001b[0;32m      6\u001b[0m plt\u001b[38;5;241m.\u001b[39mylim([\u001b[38;5;241m0\u001b[39m, \u001b[38;5;241m100\u001b[39m])\n\u001b[0;32m      7\u001b[0m \u001b[38;5;66;03m#plt.xlim([0, 50])\u001b[39;00m\n\u001b[1;32m----> 8\u001b[0m plt\u001b[38;5;241m.\u001b[39mscatter(\u001b[43mcod_daily_mean_nilu\u001b[49m\u001b[43m[\u001b[49m\u001b[38;5;124;43m'\u001b[39;49m\u001b[38;5;124;43mDOY_NILU\u001b[39;49m\u001b[38;5;124;43m'\u001b[39;49m\u001b[43m]\u001b[49m, cod_daily_mean_nilu[\u001b[38;5;124m'\u001b[39m\u001b[38;5;124mCOD_NILU\u001b[39m\u001b[38;5;124m'\u001b[39m], marker\u001b[38;5;241m=\u001b[39m\u001b[38;5;124m'\u001b[39m\u001b[38;5;124m.\u001b[39m\u001b[38;5;124m'\u001b[39m, color\u001b[38;5;241m=\u001b[39m\u001b[38;5;124m'\u001b[39m\u001b[38;5;124mblack\u001b[39m\u001b[38;5;124m'\u001b[39m)\n\u001b[0;32m      9\u001b[0m plt\u001b[38;5;241m.\u001b[39msavefig(\u001b[38;5;124m'\u001b[39m\u001b[38;5;124mCOD_vs_DOY_\u001b[39m\u001b[38;5;124m'\u001b[39m\u001b[38;5;241m+\u001b[39mnamestring\u001b[38;5;241m+\u001b[39m\u001b[38;5;124m'\u001b[39m\u001b[38;5;124m.pdf\u001b[39m\u001b[38;5;124m'\u001b[39m)\n\u001b[0;32m     10\u001b[0m plt\u001b[38;5;241m.\u001b[39mshow()\n",
      "File \u001b[1;32m~\\AppData\\Local\\Programs\\Python\\Python310\\lib\\site-packages\\pandas\\core\\frame.py:3804\u001b[0m, in \u001b[0;36mDataFrame.__getitem__\u001b[1;34m(self, key)\u001b[0m\n\u001b[0;32m   3802\u001b[0m \u001b[38;5;28;01mif\u001b[39;00m \u001b[38;5;28mself\u001b[39m\u001b[38;5;241m.\u001b[39mcolumns\u001b[38;5;241m.\u001b[39mnlevels \u001b[38;5;241m>\u001b[39m \u001b[38;5;241m1\u001b[39m:\n\u001b[0;32m   3803\u001b[0m     \u001b[38;5;28;01mreturn\u001b[39;00m \u001b[38;5;28mself\u001b[39m\u001b[38;5;241m.\u001b[39m_getitem_multilevel(key)\n\u001b[1;32m-> 3804\u001b[0m indexer \u001b[38;5;241m=\u001b[39m \u001b[38;5;28;43mself\u001b[39;49m\u001b[38;5;241;43m.\u001b[39;49m\u001b[43mcolumns\u001b[49m\u001b[38;5;241;43m.\u001b[39;49m\u001b[43mget_loc\u001b[49m\u001b[43m(\u001b[49m\u001b[43mkey\u001b[49m\u001b[43m)\u001b[49m\n\u001b[0;32m   3805\u001b[0m \u001b[38;5;28;01mif\u001b[39;00m is_integer(indexer):\n\u001b[0;32m   3806\u001b[0m     indexer \u001b[38;5;241m=\u001b[39m [indexer]\n",
      "File \u001b[1;32m~\\AppData\\Local\\Programs\\Python\\Python310\\lib\\site-packages\\pandas\\core\\indexes\\base.py:3805\u001b[0m, in \u001b[0;36mIndex.get_loc\u001b[1;34m(self, key, method, tolerance)\u001b[0m\n\u001b[0;32m   3803\u001b[0m     \u001b[38;5;28;01mreturn\u001b[39;00m \u001b[38;5;28mself\u001b[39m\u001b[38;5;241m.\u001b[39m_engine\u001b[38;5;241m.\u001b[39mget_loc(casted_key)\n\u001b[0;32m   3804\u001b[0m \u001b[38;5;28;01mexcept\u001b[39;00m \u001b[38;5;167;01mKeyError\u001b[39;00m \u001b[38;5;28;01mas\u001b[39;00m err:\n\u001b[1;32m-> 3805\u001b[0m     \u001b[38;5;28;01mraise\u001b[39;00m \u001b[38;5;167;01mKeyError\u001b[39;00m(key) \u001b[38;5;28;01mfrom\u001b[39;00m \u001b[38;5;21;01merr\u001b[39;00m\n\u001b[0;32m   3806\u001b[0m \u001b[38;5;28;01mexcept\u001b[39;00m \u001b[38;5;167;01mTypeError\u001b[39;00m:\n\u001b[0;32m   3807\u001b[0m     \u001b[38;5;66;03m# If we have a listlike key, _check_indexing_error will raise\u001b[39;00m\n\u001b[0;32m   3808\u001b[0m     \u001b[38;5;66;03m#  InvalidIndexError. Otherwise we fall through and re-raise\u001b[39;00m\n\u001b[0;32m   3809\u001b[0m     \u001b[38;5;66;03m#  the TypeError.\u001b[39;00m\n\u001b[0;32m   3810\u001b[0m     \u001b[38;5;28mself\u001b[39m\u001b[38;5;241m.\u001b[39m_check_indexing_error(key)\n",
      "\u001b[1;31mKeyError\u001b[0m: 'DOY_NILU'"
     ]
    },
    {
     "data": {
      "image/png": "[encoded data removed]",
      "text/plain": [
       "<Figure size 432x288 with 1 Axes>"
      ]
     },
     "metadata": {
      "needs_background": "light"
     },
     "output_type": "display_data"
    }
   ],
   "source": [
    "#Plotting cloud optical depth (predicted from NN) vs DOY\n",
    "#print(cod_daily_mean_nilu)\n",
    "#print(relative_differance)\n",
    "plt.ylabel('Daily mean cloud optical depth')\n",
    "plt.xlabel('Day of the Year')\n",
    "plt.ylim([0, 100])\n",
    "#plt.xlim([0, 50])\n",
    "plt.scatter(cod_daily_mean_nilu['DOY_NILU'], cod_daily_mean_nilu['COD_NILU'], marker='.', color='black')\n",
    "plt.savefig('COD_vs_DOY_'+namestring+'.pdf')\n",
    "plt.show()"
   ]
  },
  {
   "cell_type": "code",
   "execution_count": null,
   "id": "50b85d38",
   "metadata": {},
   "outputs": [],
   "source": []
  },
  {
   "cell_type": "code",
   "execution_count": null,
   "id": "d335d09c",
   "metadata": {},
   "outputs": [],
   "source": []
  }
 ],
 "metadata": {
  "kernelspec": {
   "display_name": "Python 3 (ipykernel)",
   "language": "python",
   "name": "python3"
  },
  "language_info": {
   "codemirror_mode": {
    "name": "ipython",
    "version": 3
   },
   "file_extension": ".py",
   "mimetype": "text/x-python",
   "name": "python",
   "nbconvert_exporter": "python",
   "pygments_lexer": "ipython3",
   "version": "3.10.5"
  }
 },
 "nbformat": 4,
 "nbformat_minor": 5
}
