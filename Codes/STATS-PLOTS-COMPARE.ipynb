{
 "cells": [
  {
   "cell_type": "code",
   "execution_count": 1,
   "id": "5c8e4800",
   "metadata": {},
   "outputs": [],
   "source": [
    "# milostipanov@gmail.com \n",
    "# https://github.com/meteorids\n",
    "# 2022\n",
    "\n",
    "#This Code is to process the output from the NeuralNetwork-Predict. Creating plots and statistics. Will combine the output file from the NN and the NILU-data-process for time stamps."
   ]
  },
  {
   "cell_type": "code",
   "execution_count": 2,
   "id": "98121c5a",
   "metadata": {},
   "outputs": [
    {
     "name": "stdout",
     "output_type": "stream",
     "text": [
      "<class 'pandas.core.series.Series'>\n"
     ]
    }
   ],
   "source": [
    "#This block will create a plot of a daily data from NN-output and NILU-data-process output.\n",
    "\n",
    "import pandas as pd\n",
    "\n",
    "\n",
    "# Seting up data:\n",
    "\n",
    "processed_data = pd.read_csv('../MachineLearning-NILU/nnoutput_20140602.txt',  sep=r'\\s+', header=None)\n",
    "\n",
    "timestamp     = pd.read_csv('./NILU-OUT/processed_nilu_20140602.txt',  sep=r'\\s+', header=None)\n",
    "\n",
    "date = timestamp[3]\n",
    "time = timestamp[5]\n",
    "doy  = timestamp[4]\n",
    "sza  = timestamp[0]\n",
    "scaled_ozone   = processed_data[0]\n",
    "vol_frac       = processed_data[1]*10**-7\n",
    "\n",
    "scaled_ozone2   = processed_data2[0]\n",
    "vol_frac2       = processed_data2[1]*10**-7\n",
    "\n",
    "print(type(scaled_ozone2))\n",
    "# Converting scaled ozone to Dobson Units\n",
    "# Scaled to standard US atmosphere, the equivalent depth of ozone is 3.45×10^−3 m, in Dobson units= 345 DU. 1 eqd = 10^5 DU\n",
    "ozone_DU = scaled_ozone*345\n",
    "ozone_DU2 = scaled_ozone2*345\n",
    "# Converting cloud particle vol. frac. to COD. Based on simulations. see code: COD_vs_volfrac.ipynb\n",
    "cod = vol_frac*152596238.214\n",
    "cod2 = vol_frac2*152596238.214\n",
    "\n",
    "\n",
    "df = pd.DataFrame({'DATE': date,\n",
    "                   'TIMEUTC': time,\n",
    "                    'DOY': doy,\n",
    "                   'SZA': sza,\n",
    "                   'O3': ozone_DU,\n",
    "                   'COD': cod})\n",
    "\n",
    "df2 = pd.DataFrame({'O32': ozone_DU2,\n",
    "                    'COD2': cod2})\n",
    "\n",
    "\n",
    "# Filtering 1 day worth of data from the whole input\n",
    "\n",
    "#sza\n",
    "#processed_data[0]\n",
    "\n",
    "df.to_csv(\"./STATS-PLOTS-OUT/dataframe.csv\")\n",
    "\n",
    "#print(df)\n",
    "\n",
    "#print(df['O3'].mean)"
   ]
  },
  {
   "cell_type": "code",
   "execution_count": 1,
   "id": "2976e56c",
   "metadata": {},
   "outputs": [
    {
     "ename": "NameError",
     "evalue": "name 'df' is not defined",
     "output_type": "error",
     "traceback": [
      "\u001b[0;31m---------------------------------------------------------------------------\u001b[0m",
      "\u001b[0;31mNameError\u001b[0m                                 Traceback (most recent call last)",
      "\u001b[0;32m<ipython-input-1-f2cb5bef9b73>\u001b[0m in \u001b[0;36m<module>\u001b[0;34m\u001b[0m\n\u001b[1;32m     17\u001b[0m \u001b[0mz2\u001b[0m \u001b[0;34m=\u001b[0m \u001b[0;34m[\u001b[0m\u001b[0;34m]\u001b[0m\u001b[0;34m\u001b[0m\u001b[0;34m\u001b[0m\u001b[0m\n\u001b[1;32m     18\u001b[0m \u001b[0;34m\u001b[0m\u001b[0m\n\u001b[0;32m---> 19\u001b[0;31m \u001b[0;32mfor\u001b[0m \u001b[0mi\u001b[0m \u001b[0;32min\u001b[0m \u001b[0mrange\u001b[0m\u001b[0;34m(\u001b[0m\u001b[0mlen\u001b[0m\u001b[0;34m(\u001b[0m\u001b[0mdf\u001b[0m\u001b[0;34m.\u001b[0m\u001b[0mDOY\u001b[0m\u001b[0;34m)\u001b[0m\u001b[0;34m)\u001b[0m\u001b[0;34m:\u001b[0m\u001b[0;34m\u001b[0m\u001b[0;34m\u001b[0m\u001b[0m\n\u001b[0m\u001b[1;32m     20\u001b[0m     \u001b[0;32mif\u001b[0m \u001b[0mdf\u001b[0m\u001b[0;34m.\u001b[0m\u001b[0mDOY\u001b[0m\u001b[0;34m[\u001b[0m\u001b[0mi\u001b[0m\u001b[0;34m]\u001b[0m \u001b[0;34m==\u001b[0m \u001b[0mchoosen_day\u001b[0m\u001b[0;34m:\u001b[0m\u001b[0;34m\u001b[0m\u001b[0;34m\u001b[0m\u001b[0m\n\u001b[1;32m     21\u001b[0m         \u001b[0mdate2\u001b[0m \u001b[0;34m=\u001b[0m \u001b[0mstr\u001b[0m\u001b[0;34m(\u001b[0m\u001b[0mdf\u001b[0m\u001b[0;34m.\u001b[0m\u001b[0mDATE\u001b[0m\u001b[0;34m[\u001b[0m\u001b[0mi\u001b[0m\u001b[0;34m]\u001b[0m\u001b[0;34m)\u001b[0m\u001b[0;34m\u001b[0m\u001b[0;34m\u001b[0m\u001b[0m\n",
      "\u001b[0;31mNameError\u001b[0m: name 'df' is not defined"
     ]
    }
   ],
   "source": [
    "import matplotlib.pyplot as plt\n",
    "import numpy as np\n",
    "import math\n",
    "import datetime\n",
    "import matplotlib.dates as mdates\n",
    "import pytz\n",
    "from dateutil import tz\n",
    "\n",
    "# Let's plot 1 day\n",
    "# Enter a day number:\n",
    "choosen_day = 153\n",
    "\n",
    "x=[ ]\n",
    "y=[ ]\n",
    "y2 = []\n",
    "z = []\n",
    "z2 = []\n",
    "\n",
    "for i in range(len(df.DOY)):\n",
    "    if df.DOY[i] == choosen_day:\n",
    "        date2 = str(df.DATE[i])\n",
    "        year = date2[0:4]\n",
    "        month = date2[4:6]\n",
    "        day = date2[6:8]\n",
    "        time2 = str(df.TIMEUTC[i])\n",
    "        hour = time2[0:2]\n",
    "        minute = time2[2:]\n",
    "        my_datetime = datetime.datetime(int(year),int(month),int(day),int(hour),int(minute),0,0, tzinfo = pytz.utc)\n",
    "        my_datetime_utc = my_datetime.strftime('%Y-%m-%d %H:%M:%S %Z%z')\n",
    "#        my_datetime_est = my_datetime.astimezone(pytz.timezone('US/Eastern')).strftime('%Y-%m-%d %H:%M:%S %Z%z')\n",
    "        my_datetime_est = my_datetime.astimezone(pytz.timezone('US/Eastern'))\n",
    "#        print(my_datetime_est)\n",
    "        x.append(my_datetime_est)\n",
    "        y.append(df.O3[i])\n",
    "        y2.append(df2.O32[i])\n",
    "        z.append(df.COD[i])\n",
    "        z2.append(df2.COD2[i])\n",
    "        \n",
    "       \n",
    "fig, ax = plt.subplots()\n",
    "ax.xaxis.set_major_formatter(mdates.DateFormatter('%H:%M',tz=tz.gettz('US/Eastern')))\n",
    "fig.autofmt_xdate()\n",
    "\n",
    "#ax.plot(y, marker='.')\n",
    "#ax.set_xticks([i for i in range(len(y))])\n",
    "#ax.set_xticklabels(x)\n",
    "#ax.locator_params(nbins=10)\n",
    "\n",
    "\n",
    "plt.scatter(x, y, marker='.', color='blue')\n",
    "plt.scatter(x, y2, marker='.', color='red')\n",
    "plt.show()\n",
    "\n",
    "#print(y)"
   ]
  },
  {
   "cell_type": "code",
   "execution_count": 4,
   "id": "f39f2b94",
   "metadata": {},
   "outputs": [
    {
     "data": {
      "image/png": "[encoded data removed]",
      "text/plain": [
       "<Figure size 432x288 with 1 Axes>"
      ]
     },
     "metadata": {
      "needs_background": "light"
     },
     "output_type": "display_data"
    }
   ],
   "source": [
    "fig, ax = plt.subplots()\n",
    "ax.xaxis.set_major_formatter(mdates.DateFormatter('%H:%M',tz=tz.gettz('US/Eastern')))\n",
    "fig.autofmt_xdate()\n",
    "plt.scatter(x, z, marker='.', color='blue')\n",
    "plt.scatter(x, z2, marker='.', color='red')\n",
    "plt.show()"
   ]
  },
  {
   "cell_type": "code",
   "execution_count": 5,
   "id": "3b03bd91",
   "metadata": {},
   "outputs": [
    {
     "name": "stdout",
     "output_type": "stream",
     "text": [
      "The day number : 153\n",
      "Resolved date : 06-02-2014\n"
     ]
    }
   ],
   "source": [
    "# Convert day number to date in particular year\n",
    "from datetime import datetime\n",
    "  \n",
    "# initializing day number\n",
    "day_num = \"153\"\n",
    "  \n",
    "# print day number\n",
    "print(\"The day number : \" + str(day_num))\n",
    "  \n",
    "# adjusting day num\n",
    "#day_num.rjust(3 + len(day_num), '0')\n",
    "  \n",
    "# Initialize year\n",
    "year = \"2014\"\n",
    "  \n",
    "# converting to date\n",
    "res = datetime.strptime(year + \"-\" + day_num, \"%Y-%j\").strftime(\"%m-%d-%Y\")\n",
    "  \n",
    "# printing result\n",
    "print(\"Resolved date : \" + str(res))"
   ]
  },
  {
   "cell_type": "code",
   "execution_count": 6,
   "id": "9a01b9fe",
   "metadata": {},
   "outputs": [
    {
     "data": {
      "image/png": "[encoded data removed]",
      "text/plain": [
       "<Figure size 432x288 with 1 Axes>"
      ]
     },
     "metadata": {
      "needs_background": "light"
     },
     "output_type": "display_data"
    }
   ],
   "source": [
    "# Check how clear the day is by plotting raw ch5 vs time\n",
    "\n",
    "day = 153\n",
    "\n",
    "# Clean days found so far:\n",
    "# 2014: 110, 153\n",
    "\n",
    "ch5  = timestamp[1]\n",
    "ch5df = pd.DataFrame({'CH5': ch5})\n",
    "\n",
    "\n",
    "CH5=[ ]\n",
    "for i in range(len(df.DOY)):\n",
    "    if df.DOY[i] == day:\n",
    "        CH5.append(ch5df.CH5[i])\n",
    "        \n",
    "        \n",
    "T = range(len(CH5))      \n",
    "\n",
    "\n",
    "    \n",
    "plt.tight_layout()\n",
    "plt.plot(T, CH5, color='gray')\n",
    "plt.show()"
   ]
  },
  {
   "cell_type": "code",
   "execution_count": null,
   "id": "83e4f6e7",
   "metadata": {},
   "outputs": [],
   "source": []
  }
 ],
 "metadata": {
  "kernelspec": {
   "display_name": "Python 3",
   "language": "python",
   "name": "python3"
  },
  "language_info": {
   "codemirror_mode": {
    "name": "ipython",
    "version": 3
   },
   "file_extension": ".py",
   "mimetype": "text/x-python",
   "name": "python",
   "nbconvert_exporter": "python",
   "pygments_lexer": "ipython3",
   "version": "3.7.4"
  }
 },
 "nbformat": 4,
 "nbformat_minor": 5
}
