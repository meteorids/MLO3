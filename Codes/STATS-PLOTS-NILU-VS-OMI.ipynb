{
 "cells": [
  {
   "cell_type": "code",
   "execution_count": 1,
   "id": "90292cc9",
   "metadata": {},
   "outputs": [],
   "source": [
    "# milostipanov@gmail.com \n",
    "# https://github.com/meteorids\n",
    "# 2022\n",
    "\n",
    "#This Code is to process the output from the NeuralNetwork-Predict. Creating plots and statistics. Will combine the output file from the NN and the NILU-data-process for time stamps."
   ]
  },
  {
   "cell_type": "code",
   "execution_count": 5,
   "id": "bbfd904a",
   "metadata": {},
   "outputs": [
    {
     "name": "stdout",
     "output_type": "stream",
     "text": [
      "        DATE_NILU  TIMEUTC_NILU  DOY_NILU  SZA_NILU     O3_NILU  COD_NILU  \\\n",
      "0        20140323          1246        82    69.914  282.210127  7.132291   \n",
      "1        20140323          1247        82    69.733  283.288601  7.177997   \n",
      "2        20140323          1248        82    69.552  284.669306  6.998200   \n",
      "3        20140323          1249        82    69.371  286.801380  7.028602   \n",
      "4        20140323          1250        82    69.191  287.577334  7.286137   \n",
      "...           ...           ...       ...       ...         ...       ...   \n",
      "175972   20141024          1956       297    69.346  259.326761  0.182682   \n",
      "175973   20141024          1957       297    69.495  256.046216  0.105954   \n",
      "175974   20141024          1958       297    69.645  258.412779  0.196764   \n",
      "175975   20141024          1959       297    69.795  257.382592  0.183985   \n",
      "175976   20141024          2000       297    69.945  251.880893  0.077752   \n",
      "\n",
      "        SZA_COS_NILU  COD_NILU_CORR  \n",
      "0           0.343430      20.767804  \n",
      "1           0.346395      20.721974  \n",
      "2           0.349357      20.031650  \n",
      "3           0.352315      19.949744  \n",
      "4           0.355254      20.509666  \n",
      "...              ...            ...  \n",
      "175972      0.352724       0.517917  \n",
      "175973      0.350289       0.302475  \n",
      "175974      0.347836       0.565680  \n",
      "175975      0.345380       0.532702  \n",
      "175976      0.342922       0.226733  \n",
      "\n",
      "[175977 rows x 8 columns]\n",
      "     DOY_NILU     O3_NILU\n",
      "0           1  300.151067\n",
      "1           2  261.120311\n",
      "2           3  335.442891\n",
      "3           4  287.698480\n",
      "4           5  279.981104\n",
      "..        ...         ...\n",
      "360       361  254.269092\n",
      "361       362  241.940991\n",
      "362       363  260.310007\n",
      "363       364  228.843420\n",
      "364       365  322.529959\n",
      "\n",
      "[365 rows x 2 columns]\n",
      "     DOY_NILU  COD_NILU_CORR\n",
      "0           1      10.959814\n",
      "1           2     153.314252\n",
      "2           3       1.329180\n",
      "3           4       0.642242\n",
      "4           5      74.069971\n",
      "..        ...            ...\n",
      "360       361       0.248837\n",
      "361       362      10.357200\n",
      "362       363       0.850804\n",
      "363       364    1027.197214\n",
      "364       365       0.320864\n",
      "\n",
      "[365 rows x 2 columns]\n"
     ]
    }
   ],
   "source": [
    "#This block reads the daily data from NN-output and NILU-data-process output.\n",
    "\n",
    "import pandas as pd\n",
    "import numpy as np\n",
    "import math\n",
    "# Seting up data:\n",
    "\n",
    "processed_data = pd.read_csv('../MachineLearning-NILU/nnoutput-2014.txt',  sep=r'\\s+', header=None)\n",
    "timestamp     = pd.read_csv('./NILU-OUT/processed_nilu-2014.txt',  sep=r'\\s+', header=None)\n",
    "\n",
    "#year = str(timestamp[1])\n",
    "date_nilu = timestamp[3]\n",
    "time_nilu = timestamp[5]\n",
    "doy_nilu  = timestamp[4]\n",
    "sza_nilu  = timestamp[0]\n",
    "scaled_ozone_nilu   = processed_data[0]\n",
    "vol_frac_nilu       = processed_data[1]*10**-7\n",
    "\n",
    "\n",
    "# Converting scaled ozone to Dobson Units\n",
    "# Scaled to standard US atmosphere, the equivalent depth of ozone is 3.45×10^−3 m, in Dobson units= 345 DU. 1 eqd = 10^5 DU\n",
    "ozone_DU_nilu = scaled_ozone_nilu*345\n",
    "# Converting cloud particle vol. frac. to COD. Based on simulations. see code: COD_vs_volfrac.ipynb\n",
    "cod_nilu = vol_frac_nilu*152596238.214\n",
    "\n",
    "\n",
    "df_nilu = pd.DataFrame({'DATE_NILU': date_nilu,\n",
    "                   'TIMEUTC_NILU': time_nilu,\n",
    "                    'DOY_NILU': doy_nilu,\n",
    "                   'SZA_NILU': sza_nilu,\n",
    "                   'O3_NILU': ozone_DU_nilu,\n",
    "                   'COD_NILU': cod_nilu})\n",
    "\n",
    "df_nilu.to_csv(\"./STATS-PLOTS-OUT/dataframe.csv\")\n",
    "mylambda1 = lambda x: math.cos(math.radians(x))\n",
    "df_nilu['SZA_COS_NILU'] = df_nilu['SZA_NILU'].apply(mylambda1)\n",
    "df_nilu['COD_NILU_CORR'] = df_nilu['COD_NILU']/df_nilu['SZA_COS_NILU']\n",
    "\n",
    "high_noons = df_nilu.loc[df_nilu.groupby('DOY_NILU').SZA_NILU.idxmin()].reset_index()\n",
    "\n",
    "# creating a lambda function, to filter out the outliners\n",
    "mylambda2 = lambda x: x if x > 200 else np.nan\n",
    "high_noons['O3_NILU'] = high_noons['O3_NILU'].apply(mylambda2)\n",
    "#print(high_noons)\n",
    "#daily means:\n",
    "ozone_daily_mean_nilu = df_nilu.groupby('DOY_NILU').O3_NILU.mean().reset_index()\n",
    "doy_nilu = df_nilu.groupby('DOY_NILU').mean().reset_index()\n",
    "cod_daily_mean_nilu = df_nilu.groupby('DOY_NILU').COD_NILU_CORR.mean().reset_index()\n",
    "\n",
    "print(df_nilu)\n",
    "print(ozone_daily_mean_nilu)\n",
    "print(cod_daily_mean_nilu)\n",
    "#print(ozone_daily_mean_nilu)\n"
   ]
  },
  {
   "cell_type": "code",
   "execution_count": 12,
   "id": "2e6049c5",
   "metadata": {},
   "outputs": [
    {
     "ename": "KeyError",
     "evalue": "'OMI_O3'",
     "output_type": "error",
     "traceback": [
      "\u001b[0;31m---------------------------------------------------------------------------\u001b[0m",
      "\u001b[0;31mKeyError\u001b[0m                                  Traceback (most recent call last)",
      "\u001b[0;32m~/opt/anaconda3/lib/python3.7/site-packages/pandas/core/indexes/base.py\u001b[0m in \u001b[0;36mget_loc\u001b[0;34m(self, key, method, tolerance)\u001b[0m\n\u001b[1;32m   2896\u001b[0m             \u001b[0;32mtry\u001b[0m\u001b[0;34m:\u001b[0m\u001b[0;34m\u001b[0m\u001b[0;34m\u001b[0m\u001b[0m\n\u001b[0;32m-> 2897\u001b[0;31m                 \u001b[0;32mreturn\u001b[0m \u001b[0mself\u001b[0m\u001b[0;34m.\u001b[0m\u001b[0m_engine\u001b[0m\u001b[0;34m.\u001b[0m\u001b[0mget_loc\u001b[0m\u001b[0;34m(\u001b[0m\u001b[0mkey\u001b[0m\u001b[0;34m)\u001b[0m\u001b[0;34m\u001b[0m\u001b[0;34m\u001b[0m\u001b[0m\n\u001b[0m\u001b[1;32m   2898\u001b[0m             \u001b[0;32mexcept\u001b[0m \u001b[0mKeyError\u001b[0m\u001b[0;34m:\u001b[0m\u001b[0;34m\u001b[0m\u001b[0;34m\u001b[0m\u001b[0m\n",
      "\u001b[0;32mpandas/_libs/index.pyx\u001b[0m in \u001b[0;36mpandas._libs.index.IndexEngine.get_loc\u001b[0;34m()\u001b[0m\n",
      "\u001b[0;32mpandas/_libs/index.pyx\u001b[0m in \u001b[0;36mpandas._libs.index.IndexEngine.get_loc\u001b[0;34m()\u001b[0m\n",
      "\u001b[0;32mpandas/_libs/hashtable_class_helper.pxi\u001b[0m in \u001b[0;36mpandas._libs.hashtable.PyObjectHashTable.get_item\u001b[0;34m()\u001b[0m\n",
      "\u001b[0;32mpandas/_libs/hashtable_class_helper.pxi\u001b[0m in \u001b[0;36mpandas._libs.hashtable.PyObjectHashTable.get_item\u001b[0;34m()\u001b[0m\n",
      "\u001b[0;31mKeyError\u001b[0m: 'OMI_O3'",
      "\nDuring handling of the above exception, another exception occurred:\n",
      "\u001b[0;31mKeyError\u001b[0m                                  Traceback (most recent call last)",
      "\u001b[0;32m<ipython-input-12-d3eb21d2b1ba>\u001b[0m in \u001b[0;36m<module>\u001b[0;34m\u001b[0m\n\u001b[1;32m      6\u001b[0m \u001b[0mday_omi\u001b[0m \u001b[0;34m=\u001b[0m \u001b[0mdf_omi\u001b[0m\u001b[0;34m[\u001b[0m\u001b[0;34m'DAY'\u001b[0m\u001b[0;34m]\u001b[0m\u001b[0;34m\u001b[0m\u001b[0;34m\u001b[0m\u001b[0m\n\u001b[1;32m      7\u001b[0m \u001b[0mdoy_omi\u001b[0m \u001b[0;34m=\u001b[0m \u001b[0mdf_omi\u001b[0m\u001b[0;34m[\u001b[0m\u001b[0;34m'DOY'\u001b[0m\u001b[0;34m]\u001b[0m\u001b[0;34m\u001b[0m\u001b[0;34m\u001b[0m\u001b[0m\n\u001b[0;32m----> 8\u001b[0;31m \u001b[0mozone_daily_mean_omi\u001b[0m \u001b[0;34m=\u001b[0m \u001b[0mdf_omi\u001b[0m\u001b[0;34m[\u001b[0m\u001b[0;34m'OMI_O3'\u001b[0m\u001b[0;34m]\u001b[0m\u001b[0;34m\u001b[0m\u001b[0;34m\u001b[0m\u001b[0m\n\u001b[0m\u001b[1;32m      9\u001b[0m \u001b[0;34m\u001b[0m\u001b[0m\n\u001b[1;32m     10\u001b[0m \u001b[0mprint\u001b[0m\u001b[0;34m(\u001b[0m\u001b[0mlen\u001b[0m\u001b[0;34m(\u001b[0m\u001b[0mdf_nilu\u001b[0m\u001b[0;34m[\u001b[0m\u001b[0;34m'DOY_NILU'\u001b[0m\u001b[0;34m]\u001b[0m\u001b[0;34m)\u001b[0m\u001b[0;34m)\u001b[0m\u001b[0;34m\u001b[0m\u001b[0;34m\u001b[0m\u001b[0m\n",
      "\u001b[0;32m~/opt/anaconda3/lib/python3.7/site-packages/pandas/core/frame.py\u001b[0m in \u001b[0;36m__getitem__\u001b[0;34m(self, key)\u001b[0m\n\u001b[1;32m   2978\u001b[0m             \u001b[0;32mif\u001b[0m \u001b[0mself\u001b[0m\u001b[0;34m.\u001b[0m\u001b[0mcolumns\u001b[0m\u001b[0;34m.\u001b[0m\u001b[0mnlevels\u001b[0m \u001b[0;34m>\u001b[0m \u001b[0;36m1\u001b[0m\u001b[0;34m:\u001b[0m\u001b[0;34m\u001b[0m\u001b[0;34m\u001b[0m\u001b[0m\n\u001b[1;32m   2979\u001b[0m                 \u001b[0;32mreturn\u001b[0m \u001b[0mself\u001b[0m\u001b[0;34m.\u001b[0m\u001b[0m_getitem_multilevel\u001b[0m\u001b[0;34m(\u001b[0m\u001b[0mkey\u001b[0m\u001b[0;34m)\u001b[0m\u001b[0;34m\u001b[0m\u001b[0;34m\u001b[0m\u001b[0m\n\u001b[0;32m-> 2980\u001b[0;31m             \u001b[0mindexer\u001b[0m \u001b[0;34m=\u001b[0m \u001b[0mself\u001b[0m\u001b[0;34m.\u001b[0m\u001b[0mcolumns\u001b[0m\u001b[0;34m.\u001b[0m\u001b[0mget_loc\u001b[0m\u001b[0;34m(\u001b[0m\u001b[0mkey\u001b[0m\u001b[0;34m)\u001b[0m\u001b[0;34m\u001b[0m\u001b[0;34m\u001b[0m\u001b[0m\n\u001b[0m\u001b[1;32m   2981\u001b[0m             \u001b[0;32mif\u001b[0m \u001b[0mis_integer\u001b[0m\u001b[0;34m(\u001b[0m\u001b[0mindexer\u001b[0m\u001b[0;34m)\u001b[0m\u001b[0;34m:\u001b[0m\u001b[0;34m\u001b[0m\u001b[0;34m\u001b[0m\u001b[0m\n\u001b[1;32m   2982\u001b[0m                 \u001b[0mindexer\u001b[0m \u001b[0;34m=\u001b[0m \u001b[0;34m[\u001b[0m\u001b[0mindexer\u001b[0m\u001b[0;34m]\u001b[0m\u001b[0;34m\u001b[0m\u001b[0;34m\u001b[0m\u001b[0m\n",
      "\u001b[0;32m~/opt/anaconda3/lib/python3.7/site-packages/pandas/core/indexes/base.py\u001b[0m in \u001b[0;36mget_loc\u001b[0;34m(self, key, method, tolerance)\u001b[0m\n\u001b[1;32m   2897\u001b[0m                 \u001b[0;32mreturn\u001b[0m \u001b[0mself\u001b[0m\u001b[0;34m.\u001b[0m\u001b[0m_engine\u001b[0m\u001b[0;34m.\u001b[0m\u001b[0mget_loc\u001b[0m\u001b[0;34m(\u001b[0m\u001b[0mkey\u001b[0m\u001b[0;34m)\u001b[0m\u001b[0;34m\u001b[0m\u001b[0;34m\u001b[0m\u001b[0m\n\u001b[1;32m   2898\u001b[0m             \u001b[0;32mexcept\u001b[0m \u001b[0mKeyError\u001b[0m\u001b[0;34m:\u001b[0m\u001b[0;34m\u001b[0m\u001b[0;34m\u001b[0m\u001b[0m\n\u001b[0;32m-> 2899\u001b[0;31m                 \u001b[0;32mreturn\u001b[0m \u001b[0mself\u001b[0m\u001b[0;34m.\u001b[0m\u001b[0m_engine\u001b[0m\u001b[0;34m.\u001b[0m\u001b[0mget_loc\u001b[0m\u001b[0;34m(\u001b[0m\u001b[0mself\u001b[0m\u001b[0;34m.\u001b[0m\u001b[0m_maybe_cast_indexer\u001b[0m\u001b[0;34m(\u001b[0m\u001b[0mkey\u001b[0m\u001b[0;34m)\u001b[0m\u001b[0;34m)\u001b[0m\u001b[0;34m\u001b[0m\u001b[0;34m\u001b[0m\u001b[0m\n\u001b[0m\u001b[1;32m   2900\u001b[0m         \u001b[0mindexer\u001b[0m \u001b[0;34m=\u001b[0m \u001b[0mself\u001b[0m\u001b[0;34m.\u001b[0m\u001b[0mget_indexer\u001b[0m\u001b[0;34m(\u001b[0m\u001b[0;34m[\u001b[0m\u001b[0mkey\u001b[0m\u001b[0;34m]\u001b[0m\u001b[0;34m,\u001b[0m \u001b[0mmethod\u001b[0m\u001b[0;34m=\u001b[0m\u001b[0mmethod\u001b[0m\u001b[0;34m,\u001b[0m \u001b[0mtolerance\u001b[0m\u001b[0;34m=\u001b[0m\u001b[0mtolerance\u001b[0m\u001b[0;34m)\u001b[0m\u001b[0;34m\u001b[0m\u001b[0;34m\u001b[0m\u001b[0m\n\u001b[1;32m   2901\u001b[0m         \u001b[0;32mif\u001b[0m \u001b[0mindexer\u001b[0m\u001b[0;34m.\u001b[0m\u001b[0mndim\u001b[0m \u001b[0;34m>\u001b[0m \u001b[0;36m1\u001b[0m \u001b[0;32mor\u001b[0m \u001b[0mindexer\u001b[0m\u001b[0;34m.\u001b[0m\u001b[0msize\u001b[0m \u001b[0;34m>\u001b[0m \u001b[0;36m1\u001b[0m\u001b[0;34m:\u001b[0m\u001b[0;34m\u001b[0m\u001b[0;34m\u001b[0m\u001b[0m\n",
      "\u001b[0;32mpandas/_libs/index.pyx\u001b[0m in \u001b[0;36mpandas._libs.index.IndexEngine.get_loc\u001b[0;34m()\u001b[0m\n",
      "\u001b[0;32mpandas/_libs/index.pyx\u001b[0m in \u001b[0;36mpandas._libs.index.IndexEngine.get_loc\u001b[0;34m()\u001b[0m\n",
      "\u001b[0;32mpandas/_libs/hashtable_class_helper.pxi\u001b[0m in \u001b[0;36mpandas._libs.hashtable.PyObjectHashTable.get_item\u001b[0;34m()\u001b[0m\n",
      "\u001b[0;32mpandas/_libs/hashtable_class_helper.pxi\u001b[0m in \u001b[0;36mpandas._libs.hashtable.PyObjectHashTable.get_item\u001b[0;34m()\u001b[0m\n",
      "\u001b[0;31mKeyError\u001b[0m: 'OMI_O3'"
     ]
    }
   ],
   "source": [
    "#Reads OMI data\n",
    "\n",
    "df_omi = pd.read_csv('./OMI-dataprocess-output/omi_L3_daily_means.csv',  sep=r',', header=0)\n",
    "year_omi = df_omi['YEAR']\n",
    "month_omi = df_omi['MONTH']\n",
    "day_omi = df_omi['DAY']\n",
    "doy_omi = df_omi['DOY']\n",
    "ozone_daily_mean_omi = df_omi['OMI_O3']\n",
    "\n",
    "print(len(df_nilu['DOY_NILU']))\n",
    "print(len(ozone_daily_mean_nilu['O3_NILU']))\n",
    "\n",
    "\n",
    "print(df_nilu['DOY_NILU'])\n",
    "print(ozone_daily_mean_nilu['O3_NILU'])\n",
    "\n"
   ]
  },
  {
   "cell_type": "code",
   "execution_count": 13,
   "id": "047871eb",
   "metadata": {},
   "outputs": [
    {
     "ename": "KeyError",
     "evalue": "'OMI_O3'",
     "output_type": "error",
     "traceback": [
      "\u001b[0;31m---------------------------------------------------------------------------\u001b[0m",
      "\u001b[0;31mKeyError\u001b[0m                                  Traceback (most recent call last)",
      "\u001b[0;32m~/opt/anaconda3/lib/python3.7/site-packages/pandas/core/indexes/base.py\u001b[0m in \u001b[0;36mget_loc\u001b[0;34m(self, key, method, tolerance)\u001b[0m\n\u001b[1;32m   2896\u001b[0m             \u001b[0;32mtry\u001b[0m\u001b[0;34m:\u001b[0m\u001b[0;34m\u001b[0m\u001b[0;34m\u001b[0m\u001b[0m\n\u001b[0;32m-> 2897\u001b[0;31m                 \u001b[0;32mreturn\u001b[0m \u001b[0mself\u001b[0m\u001b[0;34m.\u001b[0m\u001b[0m_engine\u001b[0m\u001b[0;34m.\u001b[0m\u001b[0mget_loc\u001b[0m\u001b[0;34m(\u001b[0m\u001b[0mkey\u001b[0m\u001b[0;34m)\u001b[0m\u001b[0;34m\u001b[0m\u001b[0;34m\u001b[0m\u001b[0m\n\u001b[0m\u001b[1;32m   2898\u001b[0m             \u001b[0;32mexcept\u001b[0m \u001b[0mKeyError\u001b[0m\u001b[0;34m:\u001b[0m\u001b[0;34m\u001b[0m\u001b[0;34m\u001b[0m\u001b[0m\n",
      "\u001b[0;32mpandas/_libs/index.pyx\u001b[0m in \u001b[0;36mpandas._libs.index.IndexEngine.get_loc\u001b[0;34m()\u001b[0m\n",
      "\u001b[0;32mpandas/_libs/index.pyx\u001b[0m in \u001b[0;36mpandas._libs.index.IndexEngine.get_loc\u001b[0;34m()\u001b[0m\n",
      "\u001b[0;32mpandas/_libs/hashtable_class_helper.pxi\u001b[0m in \u001b[0;36mpandas._libs.hashtable.PyObjectHashTable.get_item\u001b[0;34m()\u001b[0m\n",
      "\u001b[0;32mpandas/_libs/hashtable_class_helper.pxi\u001b[0m in \u001b[0;36mpandas._libs.hashtable.PyObjectHashTable.get_item\u001b[0;34m()\u001b[0m\n",
      "\u001b[0;31mKeyError\u001b[0m: 'OMI_O3'",
      "\nDuring handling of the above exception, another exception occurred:\n",
      "\u001b[0;31mKeyError\u001b[0m                                  Traceback (most recent call last)",
      "\u001b[0;32m<ipython-input-13-52e489bed18b>\u001b[0m in \u001b[0;36m<module>\u001b[0;34m\u001b[0m\n\u001b[1;32m      3\u001b[0m \u001b[0;32mimport\u001b[0m \u001b[0mmatplotlib\u001b[0m\u001b[0;34m.\u001b[0m\u001b[0mpyplot\u001b[0m \u001b[0;32mas\u001b[0m \u001b[0mplt\u001b[0m\u001b[0;34m\u001b[0m\u001b[0;34m\u001b[0m\u001b[0m\n\u001b[1;32m      4\u001b[0m \u001b[0mplt\u001b[0m\u001b[0;34m.\u001b[0m\u001b[0msubplots\u001b[0m\u001b[0;34m(\u001b[0m\u001b[0mtight_layout\u001b[0m\u001b[0;34m=\u001b[0m\u001b[0;32mTrue\u001b[0m\u001b[0;34m)\u001b[0m\u001b[0;34m\u001b[0m\u001b[0;34m\u001b[0m\u001b[0m\n\u001b[0;32m----> 5\u001b[0;31m \u001b[0mplt\u001b[0m\u001b[0;34m.\u001b[0m\u001b[0mscatter\u001b[0m\u001b[0;34m(\u001b[0m\u001b[0mdf_omi\u001b[0m\u001b[0;34m[\u001b[0m\u001b[0;34m'DOY'\u001b[0m\u001b[0;34m]\u001b[0m\u001b[0;34m,\u001b[0m \u001b[0mdf_omi\u001b[0m\u001b[0;34m[\u001b[0m\u001b[0;34m'OMI_O3'\u001b[0m\u001b[0;34m]\u001b[0m\u001b[0;34m,\u001b[0m \u001b[0mmarker\u001b[0m\u001b[0;34m=\u001b[0m\u001b[0;34m'.'\u001b[0m\u001b[0;34m,\u001b[0m \u001b[0mcolor\u001b[0m\u001b[0;34m=\u001b[0m\u001b[0;34m'grey'\u001b[0m\u001b[0;34m)\u001b[0m\u001b[0;34m\u001b[0m\u001b[0;34m\u001b[0m\u001b[0m\n\u001b[0m\u001b[1;32m      6\u001b[0m \u001b[0mplt\u001b[0m\u001b[0;34m.\u001b[0m\u001b[0mscatter\u001b[0m\u001b[0;34m(\u001b[0m\u001b[0mozone_daily_mean_nilu\u001b[0m\u001b[0;34m[\u001b[0m\u001b[0;34m'DOY_NILU'\u001b[0m\u001b[0;34m]\u001b[0m\u001b[0;34m,\u001b[0m \u001b[0mozone_daily_mean_nilu\u001b[0m\u001b[0;34m[\u001b[0m\u001b[0;34m'O3_NILU'\u001b[0m\u001b[0;34m]\u001b[0m\u001b[0;34m,\u001b[0m \u001b[0mmarker\u001b[0m\u001b[0;34m=\u001b[0m\u001b[0;34m'+'\u001b[0m\u001b[0;34m,\u001b[0m \u001b[0mcolor\u001b[0m\u001b[0;34m=\u001b[0m\u001b[0;34m'black'\u001b[0m\u001b[0;34m)\u001b[0m\u001b[0;34m\u001b[0m\u001b[0;34m\u001b[0m\u001b[0m\n\u001b[1;32m      7\u001b[0m \u001b[0mplt\u001b[0m\u001b[0;34m.\u001b[0m\u001b[0mxlabel\u001b[0m\u001b[0;34m(\u001b[0m\u001b[0;34m'Day of the year'\u001b[0m\u001b[0;34m)\u001b[0m\u001b[0;34m\u001b[0m\u001b[0;34m\u001b[0m\u001b[0m\n",
      "\u001b[0;32m~/opt/anaconda3/lib/python3.7/site-packages/pandas/core/frame.py\u001b[0m in \u001b[0;36m__getitem__\u001b[0;34m(self, key)\u001b[0m\n\u001b[1;32m   2978\u001b[0m             \u001b[0;32mif\u001b[0m \u001b[0mself\u001b[0m\u001b[0;34m.\u001b[0m\u001b[0mcolumns\u001b[0m\u001b[0;34m.\u001b[0m\u001b[0mnlevels\u001b[0m \u001b[0;34m>\u001b[0m \u001b[0;36m1\u001b[0m\u001b[0;34m:\u001b[0m\u001b[0;34m\u001b[0m\u001b[0;34m\u001b[0m\u001b[0m\n\u001b[1;32m   2979\u001b[0m                 \u001b[0;32mreturn\u001b[0m \u001b[0mself\u001b[0m\u001b[0;34m.\u001b[0m\u001b[0m_getitem_multilevel\u001b[0m\u001b[0;34m(\u001b[0m\u001b[0mkey\u001b[0m\u001b[0;34m)\u001b[0m\u001b[0;34m\u001b[0m\u001b[0;34m\u001b[0m\u001b[0m\n\u001b[0;32m-> 2980\u001b[0;31m             \u001b[0mindexer\u001b[0m \u001b[0;34m=\u001b[0m \u001b[0mself\u001b[0m\u001b[0;34m.\u001b[0m\u001b[0mcolumns\u001b[0m\u001b[0;34m.\u001b[0m\u001b[0mget_loc\u001b[0m\u001b[0;34m(\u001b[0m\u001b[0mkey\u001b[0m\u001b[0;34m)\u001b[0m\u001b[0;34m\u001b[0m\u001b[0;34m\u001b[0m\u001b[0m\n\u001b[0m\u001b[1;32m   2981\u001b[0m             \u001b[0;32mif\u001b[0m \u001b[0mis_integer\u001b[0m\u001b[0;34m(\u001b[0m\u001b[0mindexer\u001b[0m\u001b[0;34m)\u001b[0m\u001b[0;34m:\u001b[0m\u001b[0;34m\u001b[0m\u001b[0;34m\u001b[0m\u001b[0m\n\u001b[1;32m   2982\u001b[0m                 \u001b[0mindexer\u001b[0m \u001b[0;34m=\u001b[0m \u001b[0;34m[\u001b[0m\u001b[0mindexer\u001b[0m\u001b[0;34m]\u001b[0m\u001b[0;34m\u001b[0m\u001b[0;34m\u001b[0m\u001b[0m\n",
      "\u001b[0;32m~/opt/anaconda3/lib/python3.7/site-packages/pandas/core/indexes/base.py\u001b[0m in \u001b[0;36mget_loc\u001b[0;34m(self, key, method, tolerance)\u001b[0m\n\u001b[1;32m   2897\u001b[0m                 \u001b[0;32mreturn\u001b[0m \u001b[0mself\u001b[0m\u001b[0;34m.\u001b[0m\u001b[0m_engine\u001b[0m\u001b[0;34m.\u001b[0m\u001b[0mget_loc\u001b[0m\u001b[0;34m(\u001b[0m\u001b[0mkey\u001b[0m\u001b[0;34m)\u001b[0m\u001b[0;34m\u001b[0m\u001b[0;34m\u001b[0m\u001b[0m\n\u001b[1;32m   2898\u001b[0m             \u001b[0;32mexcept\u001b[0m \u001b[0mKeyError\u001b[0m\u001b[0;34m:\u001b[0m\u001b[0;34m\u001b[0m\u001b[0;34m\u001b[0m\u001b[0m\n\u001b[0;32m-> 2899\u001b[0;31m                 \u001b[0;32mreturn\u001b[0m \u001b[0mself\u001b[0m\u001b[0;34m.\u001b[0m\u001b[0m_engine\u001b[0m\u001b[0;34m.\u001b[0m\u001b[0mget_loc\u001b[0m\u001b[0;34m(\u001b[0m\u001b[0mself\u001b[0m\u001b[0;34m.\u001b[0m\u001b[0m_maybe_cast_indexer\u001b[0m\u001b[0;34m(\u001b[0m\u001b[0mkey\u001b[0m\u001b[0;34m)\u001b[0m\u001b[0;34m)\u001b[0m\u001b[0;34m\u001b[0m\u001b[0;34m\u001b[0m\u001b[0m\n\u001b[0m\u001b[1;32m   2900\u001b[0m         \u001b[0mindexer\u001b[0m \u001b[0;34m=\u001b[0m \u001b[0mself\u001b[0m\u001b[0;34m.\u001b[0m\u001b[0mget_indexer\u001b[0m\u001b[0;34m(\u001b[0m\u001b[0;34m[\u001b[0m\u001b[0mkey\u001b[0m\u001b[0;34m]\u001b[0m\u001b[0;34m,\u001b[0m \u001b[0mmethod\u001b[0m\u001b[0;34m=\u001b[0m\u001b[0mmethod\u001b[0m\u001b[0;34m,\u001b[0m \u001b[0mtolerance\u001b[0m\u001b[0;34m=\u001b[0m\u001b[0mtolerance\u001b[0m\u001b[0;34m)\u001b[0m\u001b[0;34m\u001b[0m\u001b[0;34m\u001b[0m\u001b[0m\n\u001b[1;32m   2901\u001b[0m         \u001b[0;32mif\u001b[0m \u001b[0mindexer\u001b[0m\u001b[0;34m.\u001b[0m\u001b[0mndim\u001b[0m \u001b[0;34m>\u001b[0m \u001b[0;36m1\u001b[0m \u001b[0;32mor\u001b[0m \u001b[0mindexer\u001b[0m\u001b[0;34m.\u001b[0m\u001b[0msize\u001b[0m \u001b[0;34m>\u001b[0m \u001b[0;36m1\u001b[0m\u001b[0;34m:\u001b[0m\u001b[0;34m\u001b[0m\u001b[0;34m\u001b[0m\u001b[0m\n",
      "\u001b[0;32mpandas/_libs/index.pyx\u001b[0m in \u001b[0;36mpandas._libs.index.IndexEngine.get_loc\u001b[0;34m()\u001b[0m\n",
      "\u001b[0;32mpandas/_libs/index.pyx\u001b[0m in \u001b[0;36mpandas._libs.index.IndexEngine.get_loc\u001b[0;34m()\u001b[0m\n",
      "\u001b[0;32mpandas/_libs/hashtable_class_helper.pxi\u001b[0m in \u001b[0;36mpandas._libs.hashtable.PyObjectHashTable.get_item\u001b[0;34m()\u001b[0m\n",
      "\u001b[0;32mpandas/_libs/hashtable_class_helper.pxi\u001b[0m in \u001b[0;36mpandas._libs.hashtable.PyObjectHashTable.get_item\u001b[0;34m()\u001b[0m\n",
      "\u001b[0;31mKeyError\u001b[0m: 'OMI_O3'"
     ]
    }
   ],
   "source": [
    "#Plotting daily average ozone concentration (NILU,OMI)\n",
    "#%matplotlib inline\n",
    "import matplotlib.pyplot as plt\n",
    "plt.subplots(tight_layout=True)\n",
    "plt.scatter(df_omi['DOY'], df_omi['OMI_O3'], marker='.', color='grey')\n",
    "plt.scatter(ozone_daily_mean_nilu['DOY_NILU'], ozone_daily_mean_nilu['O3_NILU'], marker='+', color='black')\n",
    "plt.xlabel('Day of the year')\n",
    "plt.ylabel('Total Ozone Column  [DU]')\n",
    "plt.legend(['OMI','NILU'])\n",
    "\n",
    "plt.savefig('OMI_L3_NILU_O3_2014.pdf',dpi = 300)\n",
    "plt.show()\n",
    "        "
   ]
  },
  {
   "cell_type": "code",
   "execution_count": 5,
   "id": "258af555",
   "metadata": {},
   "outputs": [
    {
     "name": "stdout",
     "output_type": "stream",
     "text": [
      "Yearly mean relative difference:  0.026144371442449667\n",
      "Yearly O3 standard deviation for NILU data:  42.57940342048814\n"
     ]
    },
    {
     "data": {
      "image/png": "[encoded data removed]",
      "text/plain": [
       "<Figure size 432x288 with 1 Axes>"
      ]
     },
     "metadata": {
      "needs_background": "light"
     },
     "output_type": "display_data"
    }
   ],
   "source": [
    "#Plotting relative differance between NILU and OMI data\n",
    "import math\n",
    "\n",
    "relative_differance = (abs(df_omi['OMI_O3'] - ozone_daily_mean_nilu['O3_NILU'])) / (df_omi['OMI_O3'] + ozone_daily_mean_nilu['O3_NILU'])\n",
    "yearly_mean_relative_difference = relative_differance.mean()\n",
    "std_nilu = high_noons['O3_NILU'].std()\n",
    "print(\"Yearly mean relative difference: \" ,yearly_mean_relative_difference)\n",
    "print(\"Yearly O3 standard deviation for NILU data: \",std_nilu)\n",
    "\n",
    "plt.scatter(df_omi['DOY'], relative_differance, marker='.', color='black')\n",
    "plt.xlabel('Day of the year')\n",
    "plt.title('Relative daily differance between OMI and NILU O3 concentration')\n",
    "plt.savefig('OMI_NILU_O3_rel_diff_2014.pdf')\n",
    "plt.show()"
   ]
  },
  {
   "cell_type": "code",
   "execution_count": 6,
   "id": "bc120e8b",
   "metadata": {},
   "outputs": [
    {
     "name": "stdout",
     "output_type": "stream",
     "text": [
      "Yearly mean absolute difference:  16.015531553604326\n",
      "Yearly O3 standard deviation for NILU data:  42.57940342048814\n",
      "Yearly O3 standard deviation for OMI data:  37.398551644067226\n"
     ]
    },
    {
     "data": {
      "image/png": "[encoded data removed]",
      "text/plain": [
       "<Figure size 432x288 with 1 Axes>"
      ]
     },
     "metadata": {
      "needs_background": "light"
     },
     "output_type": "display_data"
    }
   ],
   "source": [
    "#Plotting absolute differance between NILU and OMI data, calculating STD for NILU and OMI yearly data\n",
    "\n",
    "absolute_differance = (abs(df_omi['OMI_O3']-high_noons['O3_NILU']))\n",
    "yearly_mean_absolute_difference = absolute_differance.mean()\n",
    "std_nilu = high_noons['O3_NILU'].std()\n",
    "std_omi = df_omi['OMI_O3'].std()\n",
    "print(\"Yearly mean absolute difference: \" ,yearly_mean_absolute_difference)\n",
    "print(\"Yearly O3 standard deviation for NILU data: \",std_nilu)\n",
    "print(\"Yearly O3 standard deviation for OMI data: \",std_omi)\n",
    "\n",
    "plt.scatter(df_omi['DOY'], absolute_differance, marker='.', color='black')\n",
    "plt.xlabel('Day of the year')\n",
    "plt.title('Absolute daily differance between OMI and NILU O3 concentration')\n",
    "plt.savefig('OMI_NILU_O3_abs_diff_2014.pdf')\n",
    "plt.show()"
   ]
  },
  {
   "cell_type": "code",
   "execution_count": 7,
   "id": "4b7710b7",
   "metadata": {},
   "outputs": [
    {
     "data": {
      "image/png": "[encoded data removed]",
      "text/plain": [
       "<Figure size 432x288 with 1 Axes>"
      ]
     },
     "metadata": {
      "needs_background": "light"
     },
     "output_type": "display_data"
    }
   ],
   "source": [
    "#Plotting cloud optical depth (predicted from NN) vs DOY\n",
    "#print(cod_daily_mean_nilu)\n",
    "#print(relative_differance)\n",
    "plt.ylabel('Daily mean cloud optical depth')\n",
    "plt.xlabel('DOY')\n",
    "plt.ylim([0, 100])\n",
    "#plt.xlim([0, 50])\n",
    "plt.scatter(cod_daily_mean_nilu['DOY_NILU'], cod_daily_mean_nilu['COD_NILU_CORR'], marker='.', color='black')\n",
    "plt.savefig('COD_vs_DOY_2014.pdf')"
   ]
  },
  {
   "cell_type": "code",
   "execution_count": 12,
   "id": "8c18a837",
   "metadata": {},
   "outputs": [
    {
     "name": "stdout",
     "output_type": "stream",
     "text": [
      "365\n",
      "365\n"
     ]
    },
    {
     "data": {
      "image/png": "[encoded data removed]",
      "text/plain": [
       "<Figure size 432x288 with 1 Axes>"
      ]
     },
     "metadata": {
      "needs_background": "light"
     },
     "output_type": "display_data"
    }
   ],
   "source": [
    "#plotting relativ difference vs COD\n",
    "print(len(relative_differance))\n",
    "print(len(cod_daily_mean_nilu['COD_NILU_CORR']))\n",
    "plt.ylabel('Cloud optical depth')\n",
    "plt.xlabel('Relativ difference')\n",
    "plt.scatter(relative_differance, cod_daily_mean_nilu['COD_NILU_CORR'], marker='.', color='black')\n",
    "plt.ylim([0, 70])\n",
    "plt.xlim([0, 0.1])\n",
    "plt.savefig('Rel_diff_vs_COD_2014.pdf')"
   ]
  },
  {
   "cell_type": "code",
   "execution_count": 9,
   "id": "e0664d5c",
   "metadata": {},
   "outputs": [
    {
     "ename": "NameError",
     "evalue": "name 'df' is not defined",
     "output_type": "error",
     "traceback": [
      "\u001b[1;31m---------------------------------------------------------------------------\u001b[0m",
      "\u001b[1;31mNameError\u001b[0m                                 Traceback (most recent call last)",
      "Input \u001b[1;32mIn [9]\u001b[0m, in \u001b[0;36m<cell line: 16>\u001b[1;34m()\u001b[0m\n\u001b[0;32m     13\u001b[0m x\u001b[38;5;241m=\u001b[39m[ ]\n\u001b[0;32m     14\u001b[0m y\u001b[38;5;241m=\u001b[39m[ ]\n\u001b[1;32m---> 16\u001b[0m \u001b[38;5;28;01mfor\u001b[39;00m i \u001b[38;5;129;01min\u001b[39;00m \u001b[38;5;28mrange\u001b[39m(\u001b[38;5;28mlen\u001b[39m(\u001b[43mdf\u001b[49m\u001b[38;5;241m.\u001b[39mDOY)):\n\u001b[0;32m     17\u001b[0m     \u001b[38;5;28;01mif\u001b[39;00m df\u001b[38;5;241m.\u001b[39mDOY[i] \u001b[38;5;241m==\u001b[39m choosen_day:\n\u001b[0;32m     18\u001b[0m         date2 \u001b[38;5;241m=\u001b[39m \u001b[38;5;28mstr\u001b[39m(df\u001b[38;5;241m.\u001b[39mDATE[i])\n",
      "\u001b[1;31mNameError\u001b[0m: name 'df' is not defined"
     ]
    }
   ],
   "source": [
    "import matplotlib.pyplot as plt\n",
    "import numpy as np\n",
    "\n",
    "import datetime\n",
    "import matplotlib.dates as mdates\n",
    "import pytz\n",
    "from dateutil import tz\n",
    "\n",
    "# Let's plot 1 day\n",
    "# Enter a day number:\n",
    "choosen_day = 153\n",
    "\n",
    "x=[ ]\n",
    "y=[ ]\n",
    "\n",
    "for i in range(len(df.DOY)):\n",
    "    if df.DOY[i] == choosen_day:\n",
    "        date2 = str(df.DATE[i])\n",
    "        year = date2[0:4]\n",
    "        month = date2[4:6]\n",
    "        day = date2[6:8]\n",
    "        time2 = str(df.TIMEUTC[i])\n",
    "        hour = time2[0:2]\n",
    "        minute = time2[2:]\n",
    "        my_datetime = datetime.datetime(int(year),int(month),int(day),int(hour),int(minute),0,0, tzinfo = pytz.utc)\n",
    "        my_datetime_utc = my_datetime.strftime('%Y-%m-%d %H:%M:%S %Z%z')\n",
    "#        my_datetime_est = my_datetime.astimezone(pytz.timezone('US/Eastern')).strftime('%Y-%m-%d %H:%M:%S %Z%z')\n",
    "        my_datetime_est = my_datetime.astimezone(pytz.timezone('US/Eastern'))\n",
    "#        print(my_datetime_est)\n",
    "        x.append(my_datetime_est)\n",
    "        y.append(df.O3[i])\n",
    "       \n",
    "fig, ax = plt.subplots()\n",
    "ax.xaxis.set_major_formatter(mdates.DateFormatter('%H:%M',tz=tz.gettz('US/Eastern')))\n",
    "fig.autofmt_xdate()\n",
    "\n",
    "#ax.plot(y, marker='.')\n",
    "#ax.set_xticks([i for i in range(len(y))])\n",
    "#ax.set_xticklabels(x)\n",
    "#ax.locator_params(nbins=10)\n",
    "\n",
    "\n",
    "plt.scatter(x, y, marker='.', color='black')\n",
    "plt.show()\n",
    "\n",
    "#print(y)"
   ]
  },
  {
   "cell_type": "code",
   "execution_count": null,
   "id": "06e8099c",
   "metadata": {},
   "outputs": [],
   "source": [
    "# Convert day number to date in particular year\n",
    "from datetime import datetime\n",
    "  \n",
    "# initializing day number\n",
    "day_num = \"153\"\n",
    "  \n",
    "# print day number\n",
    "print(\"The day number : \" + str(day_num))\n",
    "  \n",
    "# adjusting day num\n",
    "#day_num.rjust(3 + len(day_num), '0')\n",
    "  \n",
    "# Initialize year\n",
    "year = \"2014\"\n",
    "  \n",
    "# converting to date\n",
    "res = datetime.strptime(year + \"-\" + day_num, \"%Y-%j\").strftime(\"%m-%d-%Y\")\n",
    "  \n",
    "# printing result\n",
    "print(\"Resolved date : \" + str(res))"
   ]
  },
  {
   "cell_type": "code",
   "execution_count": null,
   "id": "ea6019e4",
   "metadata": {},
   "outputs": [],
   "source": [
    "# Check how clear the day is by plotting raw ch5 vs time\n",
    "\n",
    "day = 153\n",
    "\n",
    "# Clean days found so far:\n",
    "# 2014: 110, 153\n",
    "\n",
    "ch5  = timestamp[1]\n",
    "ch5df = pd.DataFrame({'CH5': ch5})\n",
    "\n",
    "\n",
    "CH5=[ ]\n",
    "for i in range(len(df.DOY)):\n",
    "    if df.DOY[i] == day:\n",
    "        CH5.append(ch5df.CH5[i])\n",
    "        \n",
    "        \n",
    "T = range(len(CH5))      \n",
    "\n",
    "\n",
    "    \n",
    "plt.tight_layout()\n",
    "plt.plot(T, CH5, color='gray')\n",
    "plt.show()"
   ]
  },
  {
   "cell_type": "code",
   "execution_count": null,
   "id": "694cafe5",
   "metadata": {},
   "outputs": [],
   "source": []
  }
 ],
 "metadata": {
  "kernelspec": {
   "display_name": "Python 3",
   "language": "python",
   "name": "python3"
  },
  "language_info": {
   "codemirror_mode": {
    "name": "ipython",
    "version": 3
   },
   "file_extension": ".py",
   "mimetype": "text/x-python",
   "name": "python",
   "nbconvert_exporter": "python",
   "pygments_lexer": "ipython3",
   "version": "3.7.4"
  }
 },
 "nbformat": 4,
 "nbformat_minor": 5
}
