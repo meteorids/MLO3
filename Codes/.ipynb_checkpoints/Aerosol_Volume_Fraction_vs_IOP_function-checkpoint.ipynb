{
 "cells": [
  {
   "cell_type": "code",
   "execution_count": 16,
   "metadata": {},
   "outputs": [],
   "source": [
    "# open the data file\n",
    "file = open(\"/Users/milos/NN-O3/Data/COD_vs_Vf/iops_human.txt\")\n",
    "# read the file as a list\n",
    "data1 = file.readlines()\n",
    "# close the file\n",
    "file.close()\n"
   ]
  },
  {
   "cell_type": "code",
   "execution_count": 17,
   "metadata": {},
   "outputs": [],
   "source": [
    "#process the input data: \"IOP file\"\n",
    "import re\n",
    "\n",
    "optical_depth_raw = []\n",
    "\n",
    "for row in data1:\n",
    "    if row.find(\"Cumulative\")>=0:\n",
    "        optical_depth_raw.append(row)\n",
    "\n",
    "#Filtering just the numbers from the strings\n",
    "\n",
    "optical_depth = []\n",
    "\n",
    "for row in optical_depth_raw:\n",
    "    number = [i for i in re.findall('\\d+\\.\\d+',row)]\n",
    "#    number = [int(i) for i in re.findall(r'\\d+',row)]\n",
    "    optical_depth.append(number)\n",
    "\n",
    "\n",
    "#filter every third element from the list:\n",
    "optical_depth2 = []\n",
    "\n",
    "for i in range(len(optical_depth)):\n",
    "    if i%3 == 2:\n",
    "        optical_depth2.append(optical_depth[i])\n",
    "        \n",
    "optical_depth3 = []\n",
    "for item in optical_depth2:\n",
    "    optical_depth3.append(float(item[0]))\n",
    "\n",
    "#print(optical_depth)\n",
    "#print(optical_depth2)\n",
    "#print(optical_depth3)\n"
   ]
  },
  {
   "cell_type": "code",
   "execution_count": 18,
   "metadata": {},
   "outputs": [],
   "source": [
    "#process data: \"cloud_profile\" file\n",
    "file = open(\"/Users/milos/NN-O3/Data/COD_vs_Vf/cloud_profile.txt\")\n",
    "# read the file as a list\n",
    "data2 = file.readlines()\n",
    "# close the file\n",
    "file.close()\n",
    "\n",
    "volume_fraction = []\n",
    "volume_fraction2 = []\n",
    "\n",
    "for item in data2:\n",
    "    chunks = item.split(' ')\n",
    "    volume_fraction.append(chunks)\n",
    "    \n",
    "for item in volume_fraction:\n",
    "    volume_fraction2.append(float(item[2]))\n",
    "    \n",
    "#print(data2)\n",
    "#print(volume_fraction2)"
   ]
  },
  {
   "cell_type": "code",
   "execution_count": 21,
   "metadata": {},
   "outputs": [
    {
     "name": "stdout",
     "output_type": "stream",
     "text": [
      "300000000.0000002\n",
      "0.0\n"
     ]
    },
    {
     "data": {
      "image/png": "[encoded data removed]",
      "text/plain": [
       "<Figure size 432x288 with 1 Axes>"
      ]
     },
     "metadata": {
      "needs_background": "light"
     },
     "output_type": "display_data"
    }
   ],
   "source": [
    "#plot volume fration VS iop function\n",
    "import matplotlib.pyplot as plt\n",
    "import math\n",
    "from scipy import stats\n",
    "\n",
    "#linear regression\n",
    "slope, intercept, r, p, std_err = stats.linregress(volume_fraction2, optical_depth3)\n",
    "\n",
    "def myfunc(x):\n",
    "  return slope * x + intercept\n",
    "\n",
    "mymodel = list(map(myfunc, volume_fraction2))\n",
    "\n",
    "plt.plot(volume_fraction2,optical_depth3, color='black')\n",
    "plt.plot(volume_fraction2, mymodel, color='black')\n",
    "#plt.ylim(0,0.0000000110000000)\n",
    "#plt.xlim(0,3.2)\n",
    "plt.xlabel('Volume fraction')\n",
    "plt.ylabel('Optical depth')\n",
    "\n",
    "\n",
    "plt.savefig('cod_vs_vf.pdf', dpi = 300)\n",
    "\n",
    "print(slope)\n",
    "print(intercept)"
   ]
  },
  {
   "cell_type": "code",
   "execution_count": null,
   "metadata": {},
   "outputs": [],
   "source": []
  }
 ],
 "metadata": {
  "kernelspec": {
   "display_name": "Python 3",
   "language": "python",
   "name": "python3"
  },
  "language_info": {
   "codemirror_mode": {
    "name": "ipython",
    "version": 3
   },
   "file_extension": ".py",
   "mimetype": "text/x-python",
   "name": "python",
   "nbconvert_exporter": "python",
   "pygments_lexer": "ipython3",
   "version": "3.7.4"
  }
 },
 "nbformat": 4,
 "nbformat_minor": 5
}
