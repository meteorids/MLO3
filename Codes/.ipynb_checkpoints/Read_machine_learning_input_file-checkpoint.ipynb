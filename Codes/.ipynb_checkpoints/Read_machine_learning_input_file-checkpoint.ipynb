{
 "cells": [
  {
   "cell_type": "code",
   "execution_count": 1,
   "id": "1d94523b",
   "metadata": {},
   "outputs": [],
   "source": [
    "#reading the imput file\n",
    "#filename = input(\"Enter the file name: \")\n",
    "filename = '/Users/milos/NN-O3/Synthetic-data/4/Input_Irradiance_p4.txt'\n",
    "infile = open(filename, 'r')\n",
    "data = infile.read()\n",
    "infile.close()\n",
    "file1 = open('output1.txt', 'w')"
   ]
  },
  {
   "cell_type": "code",
   "execution_count": 2,
   "id": "17898474",
   "metadata": {},
   "outputs": [],
   "source": [
    "#defining empty lists\n",
    "SZA = []\n",
    "volume_fraction = []\n",
    "ozone = []\n",
    "irradiance_302 = []\n",
    "irradiance_312 = []\n",
    "irradiance_320 = []\n",
    "irradiance_340 = []\n",
    "irradiance_380 = []\n",
    "irradiance_500 = []\n",
    "irradiance_870 = []\n",
    "ratio = []"
   ]
  },
  {
   "cell_type": "code",
   "execution_count": 3,
   "id": "99913c89",
   "metadata": {},
   "outputs": [],
   "source": [
    "#splitting data into rows\n",
    "row = data.split('\\n')\n"
   ]
  },
  {
   "cell_type": "code",
   "execution_count": 4,
   "id": "13911498",
   "metadata": {},
   "outputs": [],
   "source": [
    "#splitting data into columns and calculationg the ratio\n",
    "for i in range(len(row)-1):\n",
    "    element = row[i].split()\n",
    "    SZA.append(element[0])\n",
    "    volume_fraction.append(element[1])\n",
    "    ozone.append(element[2])\n",
    "    irradiance_302.append(element[35])\n",
    "    irradiance_312.append(element[45])\n",
    "    irradiance_320.append(element[53])\n",
    "    irradiance_340.append(element[73])\n",
    "    irradiance_380.append(element[113])\n",
    "    #print(element[0])\n",
    "    \n",
    "    #calculating the ratio and converting strings to number\n",
    "    ratio_temp = float(element[53])/float(element[35])\n",
    "    #print(ratio_temp)\n",
    "    ratio.append(str(ratio_temp))\n",
    "    \n",
    "    #writing the choosen channels and their ratio into file\n",
    "    print(element[0], '\\t', element[1],'\\t',element[2],'\\t', element[113], '\\t', ratio_temp,'\\n',file=file1)\n",
    "    \n",
    "    element = []"
   ]
  },
  {
   "cell_type": "code",
   "execution_count": 5,
   "id": "6bca9eec",
   "metadata": {},
   "outputs": [],
   "source": [
    "file1.close()"
   ]
  },
  {
   "cell_type": "code",
   "execution_count": null,
   "id": "b1dcd069",
   "metadata": {},
   "outputs": [],
   "source": []
  }
 ],
 "metadata": {
  "kernelspec": {
   "display_name": "Python 3",
   "language": "python",
   "name": "python3"
  },
  "language_info": {
   "codemirror_mode": {
    "name": "ipython",
    "version": 3
   },
   "file_extension": ".py",
   "mimetype": "text/x-python",
   "name": "python",
   "nbconvert_exporter": "python",
   "pygments_lexer": "ipython3",
   "version": "3.7.4"
  }
 },
 "nbformat": 4,
 "nbformat_minor": 5
}
