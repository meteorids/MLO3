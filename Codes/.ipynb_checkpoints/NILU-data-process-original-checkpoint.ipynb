{
 "cells": [
  {
   "cell_type": "code",
   "execution_count": 24,
   "id": "b485919d",
   "metadata": {},
   "outputs": [],
   "source": [
    "import datetime\n",
    "from pysolar.solar import *\n",
    "\n",
    "\n",
    "#This code is to process the raw NILU-UV data for NN input. It applies the drift factor and calculates SZA based on location and time.\n",
    "\n",
    "#reading drift file\n",
    "filename = '../Data/NILU115/drift.15'\n",
    "infile = open(filename, 'r')\n",
    "drift_data = infile.read()\n",
    "infile.close()"
   ]
  },
  {
   "cell_type": "code",
   "execution_count": 25,
   "id": "a56ca2af",
   "metadata": {},
   "outputs": [],
   "source": [
    "#Hoboken latitude and longitude\n",
    "latitude = 40.74287154007815\n",
    "longitude = -74.02740216636893"
   ]
  },
  {
   "cell_type": "code",
   "execution_count": 26,
   "id": "9d4d1acc",
   "metadata": {},
   "outputs": [],
   "source": [
    "#Entering the choosen channal numbers for calculating their ratio\n",
    "numerator = 3    # input(\"Enter channel number for numerator: \")\n",
    "denominator = 1  #input(\"Enter channel number for denominator: \")"
   ]
  },
  {
   "cell_type": "code",
   "execution_count": 27,
   "id": "257da319",
   "metadata": {},
   "outputs": [],
   "source": [
    "#defining empty lists\n",
    "drift_year = []\n",
    "drift_month = []\n",
    "drift_day = []\n",
    "drift_daynumber = []\n",
    "drift_ch1 = []\n",
    "drift_ch2 = []\n",
    "drift_ch3 = []\n",
    "drift_ch4 = []\n",
    "drift_ch5 = []\n",
    "drift_ch6 = []\n",
    "drift_yyyymmdd = []"
   ]
  },
  {
   "cell_type": "code",
   "execution_count": 28,
   "id": "36a1f1d3",
   "metadata": {},
   "outputs": [],
   "source": [
    "# splitting drift data into rows\n",
    "row1 = drift_data.split('\\n')"
   ]
  },
  {
   "cell_type": "code",
   "execution_count": 29,
   "id": "38dd3b07",
   "metadata": {},
   "outputs": [],
   "source": [
    "# splitting drift data into columns (lists)\n",
    "for i in range(1,len(row1),1): \n",
    "    element = row1[i].split() \n",
    "    drift_year.append(element[0]) \n",
    "    drift_month.append(element[1]) \n",
    "    drift_day.append(element[2]) \n",
    "    drift_daynumber.append(element[3]) \n",
    "    drift_ch1.append(element[4]) \n",
    "    drift_ch2.append(element[5]) \n",
    "    drift_ch3.append(element[6]) \n",
    "    drift_ch4.append(element[7]) \n",
    "    drift_ch5.append(element[8]) \n",
    "    drift_ch6.append(element[9]) \n",
    "    drift_yyyymmdd.append(datetime.datetime(int(element[0]),int(element[1]), int(element[2]),0,0,0,0,tzinfo=datetime.timezone.utc)) \n",
    "    element = [] \n",
    "    \n",
    "# dates of calibrations are saved in the list drift_yyyymmdd,calibration time (hh mm ss microsec) set to 0,\n",
    "# timezone to utc in order to compare it to measurement time"
   ]
  },
  {
   "cell_type": "code",
   "execution_count": 30,
   "id": "72989b4a",
   "metadata": {},
   "outputs": [],
   "source": [
    "# Reading the input files which contains the measured data and getting rid of erronous lines/data.\n",
    "\n",
    "import os\n",
    "\n",
    "file = open('./NILU-OUT/temp/nilu-dirty-test.txt', 'w')\n",
    "\n",
    "# Set the folder that contains the data files\n",
    "\n",
    "for filename in os.listdir('/Users/milos/NN-O3/Data/NILU115/2014'):\n",
    "    with open(os.path.join('/Users/milos/NN-O3/Data/NILU115/2014', filename), 'r', errors='ignore') as raw_input:\n",
    "        text = raw_input.read()\n",
    "        file.write(text)\n",
    "        \n",
    "file.close()\n",
    "        \n",
    "    \n",
    "file = open('./NILU-OUT/temp/nilu-CLEAN-test.txt', 'w')\n",
    "\n",
    "with open('./NILU-OUT/temp/nilu-dirty-test.txt') as temp:\n",
    "    for line in temp:\n",
    "        if len(line) == 80:\n",
    "            file.write(line)\n",
    "\n",
    "file.close()\n",
    "    \n"
   ]
  },
  {
   "cell_type": "code",
   "execution_count": 31,
   "id": "3e4d2eb3",
   "metadata": {},
   "outputs": [],
   "source": [
    "#defining empty lists\n",
    "date_list = []\n",
    "time_list = []\n",
    "doy_list = []\n",
    "M_ch1 = []\n",
    "M_ch2 = []\n",
    "M_ch3 = []\n",
    "M_ch4 = []\n",
    "M_ch5 = []\n",
    "M_ch6 = []\n",
    "ratio = []\n",
    "solar_angle = []"
   ]
  },
  {
   "cell_type": "code",
   "execution_count": 32,
   "id": "c589501d",
   "metadata": {},
   "outputs": [],
   "source": [
    "#splitting data into rows\n",
    "with open('./NILU-OUT/temp/nilu-CLEAN-test.txt', 'r') as temp:\n",
    "    data_measured = temp.read()\n",
    "\n",
    "row2 = data_measured.split('\\n')"
   ]
  },
  {
   "cell_type": "code",
   "execution_count": 33,
   "id": "13b6ef23",
   "metadata": {},
   "outputs": [],
   "source": [
    "for i in range(len(row2)-1):\n",
    "    #splitting rows into elements \n",
    "    element = row2[i].split(' ')\n",
    "    \n",
    "    #Getting rid of dark (low irrad) data and 0 denominatiors.\n",
    "    if float(element[2]) > 170 and float(element[6]) > 1 and float(element[4]) > 1:\n",
    "    \n",
    "    #creating compareble date and time format\n",
    "        date = element[0]\n",
    "        time = element[1]\n",
    "        yyyy = date[0:4]\n",
    "        mm = date[4:6]\n",
    "        dd = date[6:8]\n",
    "        hh = time[0:2]\n",
    "        minmin = time[2:4]\n",
    "    \n",
    "    #creating date and time list for output file\n",
    "        date_list.append(date)\n",
    "        time_list.append(time)\n",
    "        doy_list.append(datetime.datetime(int(yyyy), int(mm), int(dd)).timetuple().tm_yday)\n",
    "\n",
    "    \n",
    "    #convert measurement_time into comparable format, measurement_time is an input variable for the SZA calculator\n",
    "    #check the time zone format of the input file and the timezone of \"measurement_time\"\n",
    "    #both supposed to be in utc format\n",
    "        measurement_time = datetime.datetime(int(yyyy),int(mm),int(dd),int(hh),int(minmin),0,0,tzinfo=datetime.timezone.utc)\n",
    "        j = 1\n",
    "        \n",
    "         \n",
    "        \n",
    "    #checking the closest rel. calibration date\n",
    "        while measurement_time > drift_yyyymmdd[j]:\n",
    "            j = j + 1\n",
    "        else:\n",
    "        #dividing the measured channel data with the corresponding drift number, normalizing with a_i and b_i\n",
    "            ch1 = float(element[2])/(float(drift_ch1[j]))\n",
    "            ch2 = float(element[3])/(float(drift_ch2[j]))  \n",
    "            ch3 = float(element[4])/(float(drift_ch3[j]))\n",
    "            ch4 = float(element[5])/(float(drift_ch4[j]))\n",
    "            ch5 = float(element[6])/(float(drift_ch5[j]))\n",
    "        #ch6 = float(element[7])/float(drift_ch6[j]))\n",
    "        \n",
    "        #calculating the sz angle\n",
    "        # altitude in this module meand elevation angle\n",
    "            altitude = get_altitude(latitude, longitude, measurement_time)\n",
    "            solar_angle_temp = 90 - altitude\n",
    "            solar_angle.append(solar_angle_temp)\n",
    "        \n",
    "        #attaching the calculated drifted and normalized number into a list\n",
    "            M_ch1.append(ch1)\n",
    "            M_ch2.append(ch2)\n",
    "            M_ch3.append(ch3)\n",
    "            M_ch4.append(ch4)\n",
    "            M_ch5.append(ch5)\n",
    "        #drifted_ch6.append(ch6)\n",
    "        \n",
    "        #calculating the ratio\n",
    "            M_temp = [ch1,ch2,ch3,ch4,ch5]\n",
    "            ratio_temp = M_temp[int(numerator)-1]/M_temp[int(denominator)-1]\n",
    "            ratio.append(ratio_temp)\n",
    " \n",
    "        \n",
    "        #days between the measurement and the next calibration\n",
    "            time_delta1 = drift_yyyymmdd[j] - measurement_time    \n",
    "        element = []\n",
    "    \n",
    "   \n",
    "    \n",
    "\n",
    "    \n",
    "    "
   ]
  },
  {
   "cell_type": "code",
   "execution_count": 34,
   "id": "e2ce70e5",
   "metadata": {},
   "outputs": [],
   "source": [
    "# Writing  output file\n",
    "file2 = open('./NILU-OUT/processed_nilu.txt', 'w')\n",
    "\n",
    "for i in range(len(M_ch1)-1):\n",
    "    if solar_angle[i] <= 70 and solar_angle[i] > 0:\n",
    "        #print(date_list[i],'\\t',time_list[i],'\\t',f\"{solar_angle[i]:.3}\",'\\t',f\"{M_ch5[i]:.10}\", '\\t' ,f\"{ratio[i]:.10}\",'\\t',file=file2)\n",
    "        print(f\"{solar_angle[i]:.3}\", ' ',f\"{M_ch5[i]:.10}\", ' ' ,f\"{ratio[i]:.10}\", ' ' ,date_list[i], ' ' ,doy_list[i], ' ' ,time_list[i], file=file2)\n",
    "file2.close()        \n",
    "        \n",
    "# Output txt file contains the following columns: sza, CH5, CH3/CH1, yyyymmdd, doy, hhmm"
   ]
  },
  {
   "cell_type": "code",
   "execution_count": 35,
   "id": "c6dcadce",
   "metadata": {
    "jupyter": {
     "source_hidden": true
    }
   },
   "outputs": [],
   "source": [
    "# file3 = open('./NILU-OUT/timestamp.txt', 'w')\n",
    "\n",
    "# for i in range(len(M_ch1)-1):\n",
    "#     if solar_angle[i] <= 70 and solar_angle[i] > 0:\n",
    "#         print(date_list[i],' ',time_list[i], ' ', doy_list[i], f\"{solar_angle[i]:.5}\", file=file3)\n",
    "# file3.close()\n",
    "    \n",
    "# Output txt file contains the following columns: yyyymmhh, hhmm, sza"
   ]
  }
 ],
 "metadata": {
  "kernelspec": {
   "display_name": "Python 3",
   "language": "python",
   "name": "python3"
  },
  "language_info": {
   "codemirror_mode": {
    "name": "ipython",
    "version": 3
   },
   "file_extension": ".py",
   "mimetype": "text/x-python",
   "name": "python",
   "nbconvert_exporter": "python",
   "pygments_lexer": "ipython3",
   "version": "3.7.4"
  }
 },
 "nbformat": 4,
 "nbformat_minor": 5
}
