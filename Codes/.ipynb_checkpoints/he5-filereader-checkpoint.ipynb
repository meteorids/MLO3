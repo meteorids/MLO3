{
 "cells": [
  {
   "cell_type": "markdown",
   "id": "46c83956",
   "metadata": {},
   "source": [
    "# Info about he5 files:\n",
    "\n",
    "An HDF5 file is a container for two kinds of objects: datasets, which are array-like collections of data, and groups, which are folder-like containers that hold datasets and other groups."
   ]
  },
  {
   "cell_type": "code",
   "execution_count": 3,
   "id": "b99741cf",
   "metadata": {},
   "outputs": [
    {
     "name": "stdout",
     "output_type": "stream",
     "text": [
      "['HDFEOS', 'HDFEOS INFORMATION']\n",
      "ColumnAmountO3\n"
     ]
    }
   ],
   "source": [
    "import h5py\n",
    "\n",
    "\n",
    "# open for reading\n",
    "f = h5py.File('/Users/milos/NN-O3/Data/OMI/OMI-Aura_L3-OMDOAO3e_2014m0323_v003-2014m0325t020242.he5', 'r')\n",
    "\n",
    "\n",
    "# h5py.File acts like a Python dictionary, thus we can check the keys,\n",
    "\n",
    "K = list(f.keys())\n",
    "print(K)\n",
    " \n",
    "dset = f['HDFEOS/GRIDS']\n",
    "\n",
    "for key in dset:\n",
    "    print(key)\n",
    "\n",
    "\n"
   ]
  },
  {
   "cell_type": "code",
   "execution_count": 56,
   "id": "afe9b229",
   "metadata": {},
   "outputs": [
    {
     "name": "stdout",
     "output_type": "stream",
     "text": [
      "float32\n",
      "(720, 1440)\n"
     ]
    }
   ],
   "source": [
    "# Now let's explore the data!\n",
    "\n",
    "#meta = f['HDFEOS INFORMATION/StructMetadata.0']\n",
    "#print(meta)\n",
    "\n",
    "data = f['HDFEOS/GRIDS/ColumnAmountO3/Data Fields/ColumnAmountO3']\n",
    "\n",
    "print(data.dtype)\n",
    "print(data.shape)\n",
    "\n",
    "# f4 means 'float32' because it has 4 bytes and each byte has 8 bits.\n",
    "\n",
    "#for i in data:\n",
    "#    print(i)\n",
    "\n",
    "\n",
    "\n",
    "\n",
    "#Let's calculate the average\n",
    "\n",
    "#datafile = open('/Users/milos/NN-O3/Data/OMI/omiave.txt', 'w')\n",
    "\n",
    "#data=[]\n",
    "#for i in dset:\n",
    "#    data.append(i)\n",
    "\n",
    "    \n",
    "    \n",
    "#     for j in range(len(i)-1):\n",
    "#         if i[j]>0:\n",
    "#             data.append(i)\n",
    "    \n",
    "\n",
    "#for i in dset:\n",
    "#    print(i)    \n",
    "\n",
    "\n",
    "#np.savetxt(\"data.txt\", data)\n",
    "    "
   ]
  },
  {
   "cell_type": "code",
   "execution_count": 100,
   "id": "abd211fa",
   "metadata": {},
   "outputs": [
    {
     "data": {
      "text/plain": [
       "311.1858091202321"
      ]
     },
     "execution_count": 100,
     "metadata": {},
     "output_type": "execute_result"
    }
   ],
   "source": [
    "# In OMI data missing values are indicated with: -1.2676506e+30\n",
    "#Let's get rid of the missing data and calculate mean.\n",
    "\n",
    "import pandas as pd\n",
    "\n",
    "df = pd.DataFrame(data)\n",
    "        \n",
    "positive_values = df[df>0] \n",
    "\n",
    "mean_rows = positive_values.mean(numeric_only=True)\n",
    "mean = mean_rows.mean()\n",
    "\n",
    "mean\n",
    "\n",
    "\n",
    "\n"
   ]
  },
  {
   "cell_type": "markdown",
   "id": "b2936831",
   "metadata": {
    "jupyter": {
     "source_hidden": true
    }
   },
   "source": [
    "f4 means 'float32' because it has 4 bytes and each byte has 8 bits.\n",
    "\n",
    "For the difference between '>f4' and '<f4', it is related to how the 32 bits are stored in 4 bytes.\n",
    "\n",
    "('>')Big Endian Byte Order: The most significant byte (the \"big end\") of the data is placed at the byte with the lowest address. The rest of the data is placed in order in the next three bytes in memory.\n",
    "\n",
    "('<')Little Endian Byte Order: The least significant byte (the \"little end\") of the data is placed at the byte with the lowest address. The rest of the data is placed in order in the next three bytes in memory."
   ]
  }
 ],
 "metadata": {
  "kernelspec": {
   "display_name": "Python 3",
   "language": "python",
   "name": "python3"
  },
  "language_info": {
   "codemirror_mode": {
    "name": "ipython",
    "version": 3
   },
   "file_extension": ".py",
   "mimetype": "text/x-python",
   "name": "python",
   "nbconvert_exporter": "python",
   "pygments_lexer": "ipython3",
   "version": "3.7.4"
  }
 },
 "nbformat": 4,
 "nbformat_minor": 5
}
