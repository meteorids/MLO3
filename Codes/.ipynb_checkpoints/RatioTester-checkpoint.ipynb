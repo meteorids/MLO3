{
 "cells": [
  {
   "cell_type": "code",
   "execution_count": 2,
   "id": "114dd53e",
   "metadata": {},
   "outputs": [
    {
     "name": "stdout",
     "output_type": "stream",
     "text": [
      "0       114.434163\n",
      "1        78.261382\n",
      "2        21.222523\n",
      "3        92.012036\n",
      "4        62.271642\n",
      "           ...    \n",
      "3995    101.327919\n",
      "3996     63.579869\n",
      "3997     81.828097\n",
      "3998     29.806527\n",
      "3999     12.883208\n",
      "Length: 4000, dtype: float64\n"
     ]
    }
   ],
   "source": [
    "###### Ratio tester   -Milos 2022\n",
    "\n",
    "import pandas as pd\n",
    "\n",
    "df = pd.read_csv('/Users/milos/NN-O3/Synthetic-data/3/Input_Irradiance_p3.txt', header=None, sep=r'\\s+')\n",
    "\n",
    "ratio = df.iloc[:, 53]/df.iloc[:, 35]\n",
    "\n",
    "print(ratio)\n",
    "\n",
    "#Indices for wavelengths:\n",
    "# 302nm --> [35]\n",
    "# 312nm --> [  ]\n",
    "# 320nm --> [53]\n",
    "# 340nm --> [73]\n",
    "# 380nm --> [113]\n",
    "\n",
    "#Can check columns here:\n",
    "#column = df.iloc[:, 53]\n",
    "#column2= df.iloc[:, 35]\n",
    "#print(column, column2)"
   ]
  },
  {
   "cell_type": "code",
   "execution_count": null,
   "id": "808902af",
   "metadata": {},
   "outputs": [],
   "source": []
  }
 ],
 "metadata": {
  "kernelspec": {
   "display_name": "Python 3",
   "language": "python",
   "name": "python3"
  },
  "language_info": {
   "codemirror_mode": {
    "name": "ipython",
    "version": 3
   },
   "file_extension": ".py",
   "mimetype": "text/x-python",
   "name": "python",
   "nbconvert_exporter": "python",
   "pygments_lexer": "ipython3",
   "version": "3.7.4"
  }
 },
 "nbformat": 4,
 "nbformat_minor": 5
}
