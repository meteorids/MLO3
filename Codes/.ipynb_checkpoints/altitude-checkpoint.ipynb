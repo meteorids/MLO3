{
 "cells": [
  {
   "cell_type": "code",
   "execution_count": 1,
   "id": "538a8ba9",
   "metadata": {},
   "outputs": [
    {
     "name": "stdout",
     "output_type": "stream",
     "text": [
      "72.61903619601594\n"
     ]
    }
   ],
   "source": [
    "from pysolar.solar import *\n",
    "import datetime\n",
    "\n",
    "#Hoboken latitude and longitude\n",
    "latitude = 40.74287154007815\n",
    "longitude = -74.02740216636893\n",
    "\n",
    "date = datetime.datetime(2022, 6, 21, 16, 50, 0, 0, tzinfo=datetime.timezone.utc)\n",
    "print(get_altitude(latitude, longitude, date))"
   ]
  }
 ],
 "metadata": {
  "kernelspec": {
   "display_name": "Python 3 (ipykernel)",
   "language": "python",
   "name": "python3"
  },
  "language_info": {
   "codemirror_mode": {
    "name": "ipython",
    "version": 3
   },
   "file_extension": ".py",
   "mimetype": "text/x-python",
   "name": "python",
   "nbconvert_exporter": "python",
   "pygments_lexer": "ipython3",
   "version": "3.10.5"
  }
 },
 "nbformat": 4,
 "nbformat_minor": 5
}
