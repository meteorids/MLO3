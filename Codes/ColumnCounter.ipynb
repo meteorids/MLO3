{
 "cells": [
  {
   "cell_type": "code",
   "execution_count": 3,
   "id": "f4eb6d31",
   "metadata": {},
   "outputs": [
    {
     "name": "stdout",
     "output_type": "stream",
     "text": [
      "122\n"
     ]
    }
   ],
   "source": [
    "# To count the number of columns in a file\n",
    "\n",
    "import csv\n",
    "\n",
    "with open('/Users/milos/NN-O3/Synthetic-data/4/Input_Irradiance_p4.txt') as f:\n",
    "    reader = csv.reader(f, delimiter=' ', skipinitialspace=True)\n",
    "    first_row = next(reader)\n",
    "    num_cols = len(first_row)\n",
    "    \n",
    "print(num_cols)"
   ]
  },
  {
   "cell_type": "code",
   "execution_count": null,
   "id": "f270cf15",
   "metadata": {},
   "outputs": [],
   "source": []
  }
 ],
 "metadata": {
  "kernelspec": {
   "display_name": "Python 3",
   "language": "python",
   "name": "python3"
  },
  "language_info": {
   "codemirror_mode": {
    "name": "ipython",
    "version": 3
   },
   "file_extension": ".py",
   "mimetype": "text/x-python",
   "name": "python",
   "nbconvert_exporter": "python",
   "pygments_lexer": "ipython3",
   "version": "3.7.4"
  }
 },
 "nbformat": 4,
 "nbformat_minor": 5
}
