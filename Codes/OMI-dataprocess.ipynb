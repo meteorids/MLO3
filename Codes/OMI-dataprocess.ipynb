{
 "cells": [
  {
   "cell_type": "code",
   "execution_count": null,
   "id": "b4a108bd",
   "metadata": {},
   "outputs": [],
   "source": [
    "# ._ _    _   _|_   _    _   ._  o   _|   _\n",
    "# | | |  (/_   |_  (/_  (_)  |   |  (_|  _>\n",
    "#                                         \n",
    "# https://github.com/meteorids\n",
    "# 2022"
   ]
  },
  {
   "cell_type": "code",
   "execution_count": null,
   "id": "5cbfd092",
   "metadata": {},
   "outputs": [],
   "source": [
    "# This code is to process .he5 format datafiles from NASA - OMI\n",
    "# 2022 ___MILOS___ 2022\n",
    "# milostipanov@gmail.com"
   ]
  },
  {
   "cell_type": "code",
   "execution_count": 11,
   "id": "c9422b42",
   "metadata": {},
   "outputs": [],
   "source": [
    "# Loading the neccessary libraries\n",
    "\n",
    "import os\n",
    "import h5py\n",
    "import pandas as pd\n",
    "import numpy as np\n",
    "import datetime"
   ]
  },
  {
   "cell_type": "code",
   "execution_count": 12,
   "id": "5793bc00",
   "metadata": {},
   "outputs": [],
   "source": [
    "# NOTE: seems like a h5py file can be opened only by 1 program/library whatever at the time. Hence the 2 for loops...\n",
    "\n",
    "# Loading all file names within a directory to datafiles list.\n",
    "datafiles=[]\n",
    "year=[]\n",
    "month=[]\n",
    "day=[]\n",
    "doy=[]\n",
    "\n",
    "# Give the path to the folder where all the he5 datafiles located. Don't forget the / at the end of the path (for he second for loop).\n",
    "\n",
    "datapath = '../Data/OMI/2014/'\n",
    "\n",
    "for filename in os.listdir(datapath):\n",
    "    datafiles.append(filename)\n",
    "    year.append(filename[21:25])\n",
    "    month.append(filename[26:28])\n",
    "    day.append(filename[28:30])\n",
    "    doy.append(datetime.datetime.strptime(filename[21:25]+filename[26:28]+filename[28:30], '%Y%m%d').timetuple().tm_yday)\n",
    "    \n",
    "    \n",
    "# Iterating through the list of filenames and getting rid of missing data (negative values) and calculating global means.    \n",
    "# global_averages=[]\n",
    "    \n",
    "# for name in datafiles:\n",
    "#     f = h5py.File(datapath+str(name))\n",
    "#     data = f['HDFEOS/GRIDS/ColumnAmountO3/Data Fields/ColumnAmountO3']\n",
    "#     df = pd.DataFrame(data)\n",
    "#     positive_values = df[df>0]\n",
    "#     mean_rows = positive_values.mean(numeric_only=True)\n",
    "#     mean = mean_rows.mean()\n",
    "#     global_averages.append(mean)\n",
    "\n",
    "# Iterating through the list of filenames and getting rid of missing data (negative values) and extracting daily mean.  \n",
    "\n",
    "averages=[]\n",
    "for name in datafiles:\n",
    "    f = h5py.File(datapath+str(name))\n",
    "    data = f['HDFEOS/GRIDS/ColumnAmountO3/Data Fields/ColumnAmountO3']\n",
    "    df = pd.DataFrame(data)\n",
    "    if df.iloc[422,523] > 0:\n",
    "        averages.append(df.iloc[422,523])\n",
    "    else:\n",
    "        averages.append(np.nan)\n",
    "    \n",
    "\n",
    "\n",
    "\n",
    "df = pd.DataFrame({\n",
    "    'YEAR': year,\n",
    "    'MONTH': month,\n",
    "    'DAY': day,\n",
    "    'DOY': doy,\n",
    "    'OMI_Ave': averages\n",
    "})\n",
    "\n",
    "\n",
    "df.to_csv(\"./OMI-dataprocess-output/omi_L3_daily_means.csv\")"
   ]
  },
  {
   "cell_type": "code",
   "execution_count": 17,
   "id": "0229c082",
   "metadata": {},
   "outputs": [
    {
     "data": {
      "image/png": "[encoded data removed]",
      "text/plain": [
       "<Figure size 640x480 with 1 Axes>"
      ]
     },
     "metadata": {},
     "output_type": "display_data"
    }
   ],
   "source": [
    "# Quick plot of the OMI data\n",
    "\n",
    "import matplotlib.pyplot as plt\n",
    "import numpy as np\n",
    "\n",
    "\n",
    "\n",
    "plt.scatter(df['DOY'], df['OMI_Ave'], marker='.', color='black')\n",
    "plt.savefig('./OMI-dataprocess-output/OMI_L3_2014.pdf', dpi = 300)\n",
    "plt.show()"
   ]
  }
 ],
 "metadata": {
  "kernelspec": {
   "display_name": "Python 3",
   "language": "python",
   "name": "python3"
  },
  "language_info": {
   "codemirror_mode": {
    "name": "ipython",
    "version": 3
   },
   "file_extension": ".py",
   "mimetype": "text/x-python",
   "name": "python",
   "nbconvert_exporter": "python",
   "pygments_lexer": "ipython3",
   "version": "3.7.4"
  }
 },
 "nbformat": 4,
 "nbformat_minor": 5
}
