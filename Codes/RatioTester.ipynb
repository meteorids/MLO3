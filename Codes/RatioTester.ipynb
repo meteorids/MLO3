{
 "cells": [
  {
   "cell_type": "code",
   "execution_count": 2,
   "id": "48103fd8",
   "metadata": {},
   "outputs": [
    {
     "name": "stdout",
     "output_type": "stream",
     "text": [
      "0       52.0\n",
      "1       61.0\n",
      "2       45.0\n",
      "3       34.0\n",
      "4       18.0\n",
      "        ... \n",
      "3995    62.0\n",
      "3996    31.0\n",
      "3997    47.0\n",
      "3998    46.0\n",
      "3999    17.0\n",
      "Name: 0, Length: 4000, dtype: float64 0       1.0296\n",
      "1       0.6807\n",
      "2       0.6560\n",
      "3       1.1053\n",
      "4       1.1869\n",
      "         ...  \n",
      "3995    0.7173\n",
      "3996    1.0424\n",
      "3997    0.9085\n",
      "3998    0.6711\n",
      "3999    0.7199\n",
      "Name: 1, Length: 4000, dtype: float64 0       0.6216\n",
      "1       8.8720\n",
      "2       1.5924\n",
      "3       9.2070\n",
      "4       5.1147\n",
      "         ...  \n",
      "3995    8.2280\n",
      "3996    7.8549\n",
      "3997    9.2330\n",
      "3998    8.1680\n",
      "3999    0.0250\n",
      "Name: 2, Length: 4000, dtype: float64\n"
     ]
    }
   ],
   "source": [
    "###### Ratio tester   -Milos 2022\n",
    "\n",
    "import pandas as pd\n",
    "\n",
    "df = pd.read_csv('/Users/milos/NN-O3/Synthetic-data/3/Input_Irradiance_p3.txt', header=None, sep=r'\\s+')\n",
    "\n",
    "ratio = df.iloc[:, 53]/df.iloc[:, 35]\n",
    "\n",
    "#print(ratio)\n",
    "\n",
    "#Indices for wavelengths:\n",
    "# 302nm --> [35]\n",
    "# 312nm --> [  ]\n",
    "# 320nm --> [53]\n",
    "# 340nm --> [73]\n",
    "# 380nm --> [113]\n",
    "\n",
    "#Can check columns here:\n",
    "column = df.iloc[:, 0]\n",
    "column2= df.iloc[:, 1]\n",
    "column3= df.iloc[:, 2]\n",
    "\n",
    "print(column, column2, column3)"
   ]
  },
  {
   "cell_type": "code",
   "execution_count": null,
   "id": "7bbb1002",
   "metadata": {},
   "outputs": [],
   "source": []
  }
 ],
 "metadata": {
  "kernelspec": {
   "display_name": "Python 3",
   "language": "python",
   "name": "python3"
  },
  "language_info": {
   "codemirror_mode": {
    "name": "ipython",
    "version": 3
   },
   "file_extension": ".py",
   "mimetype": "text/x-python",
   "name": "python",
   "nbconvert_exporter": "python",
   "pygments_lexer": "ipython3",
   "version": "3.7.4"
  }
 },
 "nbformat": 4,
 "nbformat_minor": 5
}
