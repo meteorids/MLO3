{
 "cells": [
  {
   "cell_type": "code",
   "execution_count": 1,
   "metadata": {},
   "outputs": [],
   "source": [
    "#This piece of code is to generate 20 000 cases for AccuRT to prepare the training data for the Neural Network.\n",
    "#milostipanov@gmail.com   2022.10.04\n",
    "#V2 - for ozone and cloud optical depth retrieval\n",
    "\n",
    "import numpy as np\n",
    "from numpy import random\n",
    "#import pandas as pd\n",
    "\n",
    "\n",
    "\n",
    "#solar zenith angle\n",
    "sza = random.randint(17,70, size=(2*10**4))\n",
    "\n",
    "\n",
    "\n",
    "#scaled ozone to Standard US atmosphere:\n",
    "ozone=[]\n",
    "for i in range(2*10**4):\n",
    "    ozone.append(random.uniform(0.6377, 1.2754))\n",
    "       \n",
    "        \n",
    "        \n",
    "#cloud volume fraction\n",
    "cvf=[]\n",
    "for i in range(2*10**4):\n",
    "    cvf.append((random.uniform(0.0001, 10))) #*10**-7 has to be multiplied in the matlab code that controls the repeated run of AccuRT\n",
    "    \n",
    "for i in cvf:\n",
    "    i='{:.4f}'.format(i)\n",
    "\n",
    "   \n",
    "    \n",
    "\n",
    "    \n",
    "\n",
    "\n",
    "    \n",
    "    \n",
    "np.savetxt('generated_input.txt', (np.c_[sza, ozone, cvf]), fmt = '%1.4f') \n",
    "\n",
    "#print((np.c_[sza, vf, vff, rh, ozone]))\n"
   ]
  },
  {
   "cell_type": "code",
   "execution_count": null,
   "metadata": {},
   "outputs": [],
   "source": []
  }
 ],
 "metadata": {
  "kernelspec": {
   "display_name": "Python 3 (ipykernel)",
   "language": "python",
   "name": "python3"
  },
  "language_info": {
   "codemirror_mode": {
    "name": "ipython",
    "version": 3
   },
   "file_extension": ".py",
   "mimetype": "text/x-python",
   "name": "python",
   "nbconvert_exporter": "python",
   "pygments_lexer": "ipython3",
   "version": "3.10.5"
  }
 },
 "nbformat": 4,
 "nbformat_minor": 4
}
