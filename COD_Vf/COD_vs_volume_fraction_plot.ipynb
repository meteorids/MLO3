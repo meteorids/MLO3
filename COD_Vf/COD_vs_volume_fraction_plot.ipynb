{
 "cells": [
  {
   "cell_type": "code",
   "execution_count": 1,
   "id": "d539e6b6",
   "metadata": {},
   "outputs": [],
   "source": [
    "#reading the imput file, which contains the irradiance (total downward cosine irradiance at sea level, \n",
    "#simulated with cloud optical depth, with different volume fractions)\n",
    "filename = 'COD_Vf.txt'\n",
    "infile = open(filename, 'r')\n",
    "data1 = infile.read()\n",
    "infile.close()\n"
   ]
  },
  {
   "cell_type": "code",
   "execution_count": 2,
   "id": "51b932c2",
   "metadata": {},
   "outputs": [],
   "source": [
    "#splitting data into rows\n",
    "raw1 = data1.split('\\n')\n",
    "\n",
    "#print(row)\n",
    "downward_irradiance = []\n",
    "\n",
    "for i in range(len(raw1)):\n",
    "    if i%7 == 6:\n",
    "        downward_irradiance.append(float(raw1[i]))\n",
    "        \n",
    "#clear sky downward cosine irradiance at sea level\n",
    "clear_sky = 9.34771617e-01\n",
    "\n",
    "irradiance_ratio = []\n",
    "\n",
    "for i in range(len(downward_irradiance)):\n",
    "    irradiance_ratio.append(float(downward_irradiance[i])*100/clear_sky)"
   ]
  },
  {
   "cell_type": "code",
   "execution_count": 3,
   "id": "ed0f79fe",
   "metadata": {},
   "outputs": [],
   "source": [
    "#import 'cloud_profile.txt' file\n",
    "filename = 'cloud_profile.txt'\n",
    "infile = open(filename, 'r')\n",
    "data2 = infile.read()\n",
    "infile.close()\n",
    "\n",
    "#splitting data into rows\n",
    "raw2 = data2.split('\\n')\n",
    "\n",
    "volume_fraction = []\n",
    "\n",
    "for i in range(len(raw2)):\n",
    "    element = raw2[i].split()\n",
    "    volume_fraction.append(float(element[1]))"
   ]
  },
  {
   "cell_type": "code",
   "execution_count": 4,
   "id": "6185715d",
   "metadata": {},
   "outputs": [
    {
     "name": "stdout",
     "output_type": "stream",
     "text": [
      "[8.08026028e+01 8.48829645e+06 8.78992082e+00]\n"
     ]
    },
    {
     "data": {
      "image/png": "[encoded data removed]",
      "text/plain": [
       "<Figure size 432x288 with 1 Axes>"
      ]
     },
     "metadata": {
      "needs_background": "light"
     },
     "output_type": "display_data"
    }
   ],
   "source": [
    "#plot irradiance(with cloud)/irradiance(clear sky) VS volume fraction\n",
    "import numpy as np\n",
    "import matplotlib.pyplot as plt\n",
    "import math\n",
    "from scipy import stats\n",
    "from pylab import *\n",
    "from scipy.optimize import curve_fit\n",
    "\n",
    "\n",
    "#define exponential function\n",
    "def monoExp(x, m, t, b):\n",
    "    return m * np.exp(-t * x) + b\n",
    "\n",
    "# perform the fit\n",
    "popt, pcov = curve_fit(monoExp, volume_fraction,irradiance_ratio)\n",
    "\n",
    "#popt: optimized parameters, pcov: optimized covariant parameters\n",
    "\n",
    "# plot the results\n",
    "#plt.scatter(volume_fraction,irradiance_ratio)\n",
    "plt.plot(volume_fraction,irradiance_ratio)\n",
    "# plt.plot(volume_fraction, monoExp(volume_fraction,*popt))\n",
    "plt.title(\"Fitted Exponential Curve\")\n",
    "plt.xlabel('Volume fraction')\n",
    "plt.ylabel('Radiation Modification Factor')\n",
    "plt.xlim(0, 1e-06)\n",
    "plt.savefig('RMF_vs_Vf.pdf', dpi = 300)\n",
    "print(popt)\n"
   ]
  },
  {
   "cell_type": "code",
   "execution_count": null,
   "id": "3efca882",
   "metadata": {},
   "outputs": [],
   "source": []
  }
 ],
 "metadata": {
  "kernelspec": {
   "display_name": "Python 3 (ipykernel)",
   "language": "python",
   "name": "python3"
  },
  "language_info": {
   "codemirror_mode": {
    "name": "ipython",
    "version": 3
   },
   "file_extension": ".py",
   "mimetype": "text/x-python",
   "name": "python",
   "nbconvert_exporter": "python",
   "pygments_lexer": "ipython3",
   "version": "3.10.5"
  }
 },
 "nbformat": 4,
 "nbformat_minor": 5
}
