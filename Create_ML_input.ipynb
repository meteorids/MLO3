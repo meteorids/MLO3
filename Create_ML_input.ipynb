{
 "cells": [
  {
   "cell_type": "code",
   "execution_count": 41,
   "id": "e0e96a96",
   "metadata": {},
   "outputs": [],
   "source": [
    "#This code is to create the input files for the NN training from AccuRT simulations\n",
    "\n",
    "\n",
    "#reading the input file\n",
    "\n",
    "filename = '/Users/milos/NN-O3/Synthetic-data/4/Input_Irradiance_p4.txt'\n",
    "infile = open(filename, 'r')\n",
    "data = infile.read()\n",
    "infile.close()\n",
    "file1 = open('/Users/milos/NN-O3/Codes/Create_ML_output/ML-input.txt', 'w')\n",
    "\n",
    "#defining empty lists\n",
    "SZA = []\n",
    "volume_fraction = []\n",
    "ozone = []\n",
    "irradiance_302 = []\n",
    "irradiance_312 = []\n",
    "irradiance_320 = []\n",
    "irradiance_340 = []\n",
    "irradiance_380 = []\n",
    "irradiance_500 = []\n",
    "irradiance_870 = []\n",
    "ratio = []\n",
    "\n",
    "#splitting data into rows\n",
    "row = data.split('\\n')\n",
    "\n",
    "\n",
    "#splitting data into columns and calculationg the ratio\n",
    "for i in range(len(row)-1):\n",
    "    element = row[i].split()\n",
    "    SZA.append(element[0])\n",
    "    ozone.append(element[1])\n",
    "    volume_fraction.append(element[2])\n",
    "    irradiance_302.append(element[35])\n",
    "    irradiance_312.append(element[45])\n",
    "    irradiance_320.append(element[53])\n",
    "    irradiance_340.append(element[73])\n",
    "    irradiance_380.append(element[113])\n",
    "    #print(element[0])\n",
    "    \n",
    "    #calculating the ratio and converting strings to number\n",
    "    ratio_temp = float(element[53])/float(element[35])\n",
    "    #print(ratio_temp)\n",
    "    ratio.append(str(ratio_temp))\n",
    "    \n",
    "    #writing the choosen channels and their ratio into file\n",
    "    print(element[0], element[1] ,element[2], element[113], ratio_temp, file=file1)\n",
    "    \n",
    "#The output file columns are: sza, ozone, cloud.vol.frac., irradiance at 380nm, ratio 312nm/302nm\n",
    "\n",
    "#Multiply c.vol.frac. with 10**-7 if needed.    \n",
    "\n",
    "\n",
    "file1.close()"
   ]
  },
  {
   "cell_type": "code",
   "execution_count": null,
   "id": "74398511",
   "metadata": {},
   "outputs": [],
   "source": []
  }
 ],
 "metadata": {
  "kernelspec": {
   "display_name": "Python 3 (ipykernel)",
   "language": "python",
   "name": "python3"
  },
  "language_info": {
   "codemirror_mode": {
    "name": "ipython",
    "version": 3
   },
   "file_extension": ".py",
   "mimetype": "text/x-python",
   "name": "python",
   "nbconvert_exporter": "python",
   "pygments_lexer": "ipython3",
   "version": "3.10.5"
  }
 },
 "nbformat": 4,
 "nbformat_minor": 5
}
